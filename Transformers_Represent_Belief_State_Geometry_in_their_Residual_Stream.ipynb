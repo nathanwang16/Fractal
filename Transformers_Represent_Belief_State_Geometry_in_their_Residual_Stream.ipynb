{
  "cells": [
    {
      "cell_type": "markdown",
      "metadata": {
        "id": "bKhlp-QAnh6A"
      },
      "source": [
        "This notebook is Jett's quick attempt to reproduce the results of [this work](https://www.lesswrong.com/posts/gTZ2SxesbHckJ3CkF/transformers-represent-belief-state-geometry-in-their)"
      ]
    },
    {
      "cell_type": "markdown",
      "metadata": {
        "id": "mkXjxu27ofOZ"
      },
      "source": [
        "GPU is preferred, but this should work without it. Training is optional, it will load a pre-trained model by default."
      ]
    },
    {
      "cell_type": "markdown",
      "metadata": {
        "id": "_4Di2k6KghiB"
      },
      "source": [
        "## setup"
      ]
    },
    {
      "cell_type": "code",
      "execution_count": 1,
      "metadata": {
        "id": "JSu1t2Dgzx16"
      },
      "outputs": [
        {
          "name": "stderr",
          "output_type": "stream",
          "text": [
            "/Users/xiaoyuwang/miniconda3/envs/deepseek/lib/python3.10/site-packages/tqdm/auto.py:21: TqdmWarning: IProgress not found. Please update jupyter and ipywidgets. See https://ipywidgets.readthedocs.io/en/stable/user_install.html\n",
            "  from .autonotebook import tqdm as notebook_tqdm\n"
          ]
        }
      ],
      "source": [
        "import torch\n",
        "import numpy as np\n",
        "import random\n",
        "import matplotlib.pyplot as plt\n",
        "import PIL.Image\n",
        "from transformers import LlamaConfig, LlamaForCausalLM\n",
        "from sklearn.linear_model import LinearRegression"
      ]
    },
    {
      "cell_type": "code",
      "execution_count": 2,
      "metadata": {
        "colab": {
          "base_uri": "https://localhost:8080/"
        },
        "id": "hL0PdmAs7Htk",
        "outputId": "436662bf-7d2c-4b77-ca2e-36df86694a65"
      },
      "outputs": [
        {
          "name": "stdout",
          "output_type": "stream",
          "text": [
            "device='mps'\n"
          ]
        }
      ],
      "source": [
        "if torch.cuda.is_available():\n",
        "    device = \"cuda\"\n",
        "elif torch.backends.mps.is_available():\n",
        "    device = \"mps\"\n",
        "else:\n",
        "    device = \"cpu\"\n",
        "print(f\"{device=}\")\n",
        "SEED = 23\n",
        "torch.manual_seed(SEED)\n",
        "np.random.seed(SEED)\n",
        "random.seed(SEED)"
      ]
    },
    {
      "cell_type": "markdown",
      "metadata": {
        "id": "4PKfoRrHghiD"
      },
      "source": [
        "## defining mess3 process"
      ]
    },
    {
      "cell_type": "code",
      "execution_count": 3,
      "metadata": {
        "id": "KNVGd_BDghiD"
      },
      "outputs": [],
      "source": [
        "def get_mess3_t(x, alpha):\n",
        "    beta = (1 - alpha) / 2\n",
        "    y = 1 - 2 * x\n",
        "\n",
        "    T_A = torch.tensor([\n",
        "        [alpha * y, beta * x, beta * x],\n",
        "        [alpha * x, beta * y, beta * x],\n",
        "        [alpha * x, beta * x, beta * y]\n",
        "    ], dtype=torch.float, device=device)\n",
        "\n",
        "    T_B = torch.tensor([\n",
        "        [beta * y, alpha * x, beta * x],\n",
        "        [beta * x, alpha * y, beta * x],\n",
        "        [beta * x, alpha * x, beta * y]\n",
        "    ], dtype=torch.float, device=device)\n",
        "\n",
        "    T_C = torch.tensor([\n",
        "        [beta * y, beta * x, alpha * x],\n",
        "        [beta * x, beta * y, alpha * x],\n",
        "        [beta * x, beta * x, alpha * y]\n",
        "    ], dtype=torch.float, device=device)\n",
        "\n",
        "    return torch.stack([T_A, T_B, T_C])"
      ]
    },
    {
      "cell_type": "code",
      "execution_count": 4,
      "metadata": {
        "id": "uNbww-KCghiD"
      },
      "outputs": [],
      "source": [
        "T = get_mess3_t(x=0.05, alpha=0.85)\n",
        "trans = T.permute(2, 1, 0)  # TODO: use T everywhere\n",
        "vocab_size, n_states, _ = T.shape\n",
        "prior = torch.ones(n_states, dtype=torch.float, device=device) / n_states"
      ]
    },
    {
      "cell_type": "markdown",
      "metadata": {
        "id": "JxiWbvrmghiD"
      },
      "source": [
        "## generation & beliefs updates"
      ]
    },
    {
      "cell_type": "code",
      "execution_count": 5,
      "metadata": {
        "id": "cHkMk34Gzx18"
      },
      "outputs": [],
      "source": [
        "def generate(num_sequences, length):\n",
        "    tokens = torch.zeros(num_sequences, length, dtype=torch.int64, device=device)\n",
        "    state = torch.multinomial(prior, num_sequences, replacement=True)\n",
        "    for i in range(length):\n",
        "        # probabilities of transitioning to each (state, token) pair\n",
        "        # indexed as state_idx * vocab_size + token_idx\n",
        "        pairs_trans = trans[state].reshape(num_sequences, -1)\n",
        "        pairs = torch.multinomial(pairs_trans, 1, replacement=True).squeeze()\n",
        "        state = pairs // vocab_size\n",
        "        tokens[:, i] = pairs % vocab_size\n",
        "    return tokens"
      ]
    },
    {
      "cell_type": "code",
      "execution_count": 6,
      "metadata": {
        "id": "OzJSRJW4zx1-"
      },
      "outputs": [],
      "source": [
        "def compute_beliefs(tokens):\n",
        "    num_sequences, length = tokens.shape\n",
        "    beliefs = torch.zeros(num_sequences, length + 1, n_states, dtype=torch.float, device=device)\n",
        "    beliefs[:, 0] = prior\n",
        "    for i in range(length):\n",
        "        # unnormalized\n",
        "        trans_mat = trans[..., tokens[:, i]].permute(2, 1, 0)\n",
        "        beliefs[:, i+1] = (trans_mat @ beliefs[:, i, :, None]).squeeze()\n",
        "        beliefs[:, i+1] = beliefs[:, i+1] / beliefs[:, i+1].sum(-1, keepdim=True)\n",
        "    return beliefs"
      ]
    },
    {
      "cell_type": "markdown",
      "metadata": {
        "id": "EEY9VFw_ghiE"
      },
      "source": [
        "## model training"
      ]
    },
    {
      "cell_type": "code",
      "execution_count": 7,
      "metadata": {
        "colab": {
          "base_uri": "https://localhost:8080/"
        },
        "id": "ZF0UQKSEzx1-",
        "outputId": "d2d0645a-90a1-4eb9-dbc5-ac5a14699778"
      },
      "outputs": [],
      "source": [
        "TRAIN = False\n",
        "D_MODEL = 64\n",
        "BATCH_SIZE = 32\n",
        "N_STEPS = 4000\n",
        "N_CTX = 100\n",
        "VAL_SIZE = 1000\n",
        "LOG_EVERY_STEPS = 100\n",
        "config = LlamaConfig(\n",
        "    hidden_size=D_MODEL,\n",
        "    intermediate_size=D_MODEL * 8 // 3,\n",
        "    num_attention_heads=4,\n",
        "    num_key_value_heads=4,\n",
        "    vocab_size=vocab_size\n",
        ")\n",
        "if TRAIN:\n",
        "    model = LlamaForCausalLM(config).to(device)\n",
        "    model.train()\n",
        "    optimizer = torch.optim.Adam(model.parameters(), lr=1e-3)\n",
        "    best_model_state_dict = model.state_dict()\n",
        "    best_val_loss = float(\"inf\")\n",
        "    val_tokens = generate(VAL_SIZE, N_CTX)\n",
        "    for step in range(N_STEPS):\n",
        "        tokens = generate(BATCH_SIZE, N_CTX)\n",
        "        loss = model(tokens, labels=tokens, return_dict=True).loss\n",
        "        loss.backward()\n",
        "        torch.nn.utils.clip_grad_norm_(model.parameters(), 1.0)\n",
        "        optimizer.step()\n",
        "        optimizer.zero_grad()\n",
        "        if step % LOG_EVERY_STEPS == 0:\n",
        "            with torch.no_grad():\n",
        "                val_loss = model(val_tokens, labels=val_tokens, return_dict=True).loss\n",
        "                if val_loss < best_val_loss:\n",
        "                    best_val_loss = val_loss\n",
        "                    best_model_state_dict = model.state_dict()\n",
        "                print(f\"train {loss.item():.4f} val {val_loss.item():.4f} best val {best_val_loss.item():.4f}\")\n",
        "    best_model = LlamaForCausalLM(config)\n",
        "    best_model.load_state_dict(best_model_state_dict)\n",
        "    best_model.to(device)\n",
        "else:\n",
        "    best_model = LlamaForCausalLM.from_pretrained(\"jettjaniak/mess3-llama-17-05-2024\").to(device)"
      ]
    },
    {
      "cell_type": "markdown",
      "metadata": {
        "id": "SyoJBT-6ghiF"
      },
      "source": [
        "## probe training"
      ]
    },
    {
      "cell_type": "code",
      "execution_count": 8,
      "metadata": {
        "id": "6arJ57kxzx1_"
      },
      "outputs": [],
      "source": [
        "best_model.eval()\n",
        "\n",
        "def tokens_to_probe_inputs(tokens):\n",
        "    with torch.no_grad():\n",
        "        activation: torch.tensor = None\n",
        "        def hook(model, input, output):\n",
        "            nonlocal activation\n",
        "            activation = output[0]\n",
        "        hook_handle = best_model.model.layers[-1].register_forward_hook(hook)\n",
        "        best_model(tokens)\n",
        "        hook_handle.remove()\n",
        "        return activation.reshape(-1, activation.shape[-1])\n",
        "\n",
        "def tokens_to_probe_targets(tokens):\n",
        "    beliefs = compute_beliefs(tokens)[:, 1:]\n",
        "    return beliefs[..., :n_states-1].reshape(-1, n_states-1)"
      ]
    },
    {
      "cell_type": "code",
      "execution_count": 9,
      "metadata": {
        "id": "qOqzlqITzx1_"
      },
      "outputs": [],
      "source": [
        "def train_probe(n_samples):\n",
        "    tokens = generate(n_samples, N_CTX)\n",
        "    probe_inputs = tokens_to_probe_inputs(tokens).cpu()\n",
        "    probe_targets = tokens_to_probe_targets(tokens).cpu()\n",
        "    return LinearRegression().fit(probe_inputs, probe_targets)\n",
        "probe = train_probe(n_samples=1_000)"
      ]
    },
    {
      "cell_type": "markdown",
      "metadata": {
        "id": "pglAfdRoghiF"
      },
      "source": [
        "## overcomplicated plotting"
      ]
    },
    {
      "cell_type": "code",
      "execution_count": 10,
      "metadata": {
        "colab": {
          "base_uri": "https://localhost:8080/",
          "height": 239
        },
        "id": "_HquZfU65WhQ",
        "outputId": "7f7831b7-df91-478f-d836-0e036665a3c8"
      },
      "outputs": [
        {
          "data": {
            "image/jpeg": "[encoded data removed]",
            "image/png": "[encoded data removed]",
            "text/plain": [
              "<PIL.Image.Image image mode=RGB size=512x222>"
            ]
          },
          "metadata": {},
          "output_type": "display_data"
        }
      ],
      "source": [
        "def get_unique_a_b(a, b):\n",
        "    a = (a * 255).to(torch.int)\n",
        "    b = (b * 255).to(torch.int)\n",
        "    sum = a + b\n",
        "    mask_a = (a >= 0) & (a <= 255)\n",
        "    mask_b = (b >= 0) & (b <= 255)\n",
        "    mask_sum = (sum >= 0) & (sum <= 255)\n",
        "    mask = mask_a & mask_b & mask_sum\n",
        "    pairs = torch.stack([a[mask], b[mask]], dim=1)\n",
        "    try:\n",
        "        return torch.unique(pairs, dim=0)\n",
        "    except NotImplementedError:\n",
        "        return torch.unique(pairs.cpu(), dim=0).to(device)\n",
        "\n",
        "def create_image(N, x, y, c):\n",
        "    # Initialize an empty image\n",
        "    image = np.zeros((N, N, 3), dtype=np.uint8)\n",
        "\n",
        "    # Convert normalized coordinates to pixel indices\n",
        "    x_indices = (x * (N - 1)).astype(int)\n",
        "    y_indices = (y * (N - 1)).astype(int)\n",
        "\n",
        "    # Assign colors to the image based on the coordinates\n",
        "    for i in range(len(x)):\n",
        "        image[y_indices[i], x_indices[i]] = c[i]\n",
        "\n",
        "    return image\n",
        "\n",
        "def display_image(image):\n",
        "    # Convert the numpy array to a PIL image\n",
        "    pil_image = PIL.Image.fromarray(image)\n",
        "\n",
        "    # Display the image\n",
        "    display(pil_image)\n",
        "\n",
        "def update_image(image, a, b):\n",
        "    c = 255 - a - b\n",
        "    y = (2 * b + c) // 2\n",
        "    x = ((3 ** 0.5) * c).to(torch.int) // 2\n",
        "    colors = torch.stack([a, b, 255 - a - b], dim=1)\n",
        "    image[x, y] = colors.to(torch.uint8)\n",
        "\n",
        "def plot(n_batches, batch_size):\n",
        "    max_height = int(3 ** 0.5 * 128) + 1\n",
        "    targets_image = torch.zeros((max_height, 256, 3), dtype=torch.uint8, device=device)\n",
        "    outputs_image = torch.zeros_like(targets_image)\n",
        "    for _ in range(n_batches):\n",
        "        tokens = generate(batch_size, N_CTX)\n",
        "        probe_inputs = tokens_to_probe_inputs(tokens)\n",
        "        probe_targets = tokens_to_probe_targets(tokens)\n",
        "        probe_outputs = torch.tensor(probe.predict(probe_inputs.cpu()), device=device)\n",
        "        update_image(targets_image, *get_unique_a_b(*probe_targets.T).T)\n",
        "        update_image(outputs_image, *get_unique_a_b(*probe_outputs.T).T)\n",
        "\n",
        "    joint_image = torch.cat([targets_image, outputs_image], dim=1).cpu().numpy()\n",
        "    display(PIL.Image.fromarray(joint_image[::-1]))\n",
        "\n",
        "plot(n_batches=6 if device == \"cuda\" else 2, batch_size=1_000)"
      ]
    },
    {
      "cell_type": "markdown",
      "metadata": {
        "id": "dymCf_x7oBax"
      },
      "source": [
        "Not as close to the ground truth as I hoped. When I looked at mess3 with different parameters it was hard to get the transformer to converge to optimal solution. I didn't check in this case, but I expect this is what's going on."
      ]
    }
  ],
  "metadata": {
    "accelerator": "GPU",
    "colab": {
      "gpuType": "T4",
      "provenance": []
    },
    "kernelspec": {
      "display_name": "deepseek",
      "language": "python",
      "name": "python3"
    },
    "language_info": {
      "codemirror_mode": {
        "name": "ipython",
        "version": 3
      },
      "file_extension": ".py",
      "mimetype": "text/x-python",
      "name": "python",
      "nbconvert_exporter": "python",
      "pygments_lexer": "ipython3",
      "version": "3.10.13"
    }
  },
  "nbformat": 4,
  "nbformat_minor": 0
}
