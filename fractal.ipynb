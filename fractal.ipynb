{
 "cells": [
  {
   "cell_type": "markdown",
   "id": "1a790766",
   "metadata": {},
   "source": [
    "In the previous notebook we set up a HMM and forward computing process. This one will extend that idea, with a few differences. "
   ]
  },
  {
   "cell_type": "code",
   "execution_count": 1,
   "id": "e3c9482e",
   "metadata": {
    "notebookRunGroups": {
     "groupValue": "1"
    }
   },
   "outputs": [],
   "source": [
    "import torch\n",
    "import numpy as np\n",
    "import matplotlib.pyplot as plt\n",
    "\n",
    "from sklearn.linear_model import LinearRegression\n",
    "\n",
    "import torch.optim as optim\n",
    "import torch.utils.data as data\n",
    "import torch.nn as nn\n",
    "import torch.nn.functional as F\n",
    "from torch.utils.data import Dataset"
   ]
  },
  {
   "cell_type": "code",
   "execution_count": 2,
   "id": "59aa7e4a",
   "metadata": {
    "notebookRunGroups": {
     "groupValue": "1"
    }
   },
   "outputs": [
    {
     "name": "stdout",
     "output_type": "stream",
     "text": [
      "✅ Using Apple M1/M2 GPU via MPS\n"
     ]
    }
   ],
   "source": [
    "if torch.backends.mps.is_available():\n",
    "    device = torch.device(\"mps\")\n",
    "    print(\"✅ Using Apple M1/M2 GPU via MPS\")\n",
    "else:\n",
    "    device = torch.device(\"cpu\")\n",
    "    print(\"⚠️ MPS not available, falling back to CPU\")"
   ]
  },
  {
   "cell_type": "code",
   "execution_count": 3,
   "id": "cb09202d",
   "metadata": {},
   "outputs": [
    {
     "name": "stdout",
     "output_type": "stream",
     "text": [
      "tensor([[1, 2, 3, 4]])\n",
      "tensor([[1],\n",
      "        [2],\n",
      "        [3],\n",
      "        [4]])\n"
     ]
    }
   ],
   "source": [
    "\n",
    "# experimenting with torch\n",
    "# unsqueeze function\n",
    "x = torch.tensor([1, 2, 3, 4])\n",
    "c = torch.unsqueeze(x, 0)  # adds a dimension at index 0\n",
    "print(c)\n",
    "b = torch.unsqueeze(x, 1)  # adds a dimension at index 1\n",
    "print(b)\n",
    "\n",
    "       # Hidden State Ha   Hb    Hc\n",
    "transition_matrix = torch.tensor([[0.9,0.05,0.05],\n",
    "                     [0.05,0.9,0.05],\n",
    "                     [0.05,0.05,0.9]])\n",
    "\n",
    "       # emissions  # A   B    C\n",
    "emission_matrix = torch.tensor([[0.9,0.05,0.05],\n",
    "                     [0.05,0.9,0.05],\n",
    "                     [0.05,0.05,0.9]])\n",
    "\n",
    "\n",
    "pi = torch.tensor([0.3,0.4,0.3])\n",
    "\n",
    "eta = torch.tensor([0.9,0.05,0.05])"
   ]
  },
  {
   "cell_type": "code",
   "execution_count": 4,
   "id": "b6e5d403",
   "metadata": {},
   "outputs": [
    {
     "name": "stdout",
     "output_type": "stream",
     "text": [
      "[0.075      0.04330127]\n"
     ]
    }
   ],
   "source": [
    "def compute_msp_matrices(A: torch.Tensor, B: torch.Tensor):\n",
    "    \"\"\"\n",
    "    Given HMM transition matrix A [N, N] and emission matrix B [N, M],\n",
    "    return a list of MSP matrices T_k, one for each observation symbol k.\n",
    "    \"\"\"\n",
    "    N, M = B.shape\n",
    "    T_list = []\n",
    "    \n",
    "    for k in range(M):  # loop over observation symbols\n",
    "        emission_col = B[:, k]                      # shape (N,)\n",
    "        T_k = A * emission_col.unsqueeze(0)         # broadcast multiply to shape (N, N)\n",
    "        T_list.append(T_k)\n",
    "    print(\"msp_matrices:\", T_list)\n",
    "    return T_list  # list of [N x N] tensors, each is T_k\n",
    "\n",
    "def generate_store_token_belief(T_list,pi:torch.tensor,eta,cycle,seed=None):\n",
    "     token = []\n",
    "     belief = []\n",
    "     store = []\n",
    "     eta = eta\n",
    "     print(\"pi:\", pi.shape[0])\n",
    "     if seed is not None:\n",
    "          torch.manual_seed(seed)\n",
    "     for _ in range(cycle):\n",
    "          dice = np.random.choice(pi.shape[0])\n",
    "          #print(\"dice:\", dice)\n",
    "          t_x = T_list[dice]\n",
    "          \n",
    "          eta = eta @ t_x\n",
    "          eta = eta / eta.sum()\n",
    "          \n",
    "          token.append(pi[dice])\n",
    "          belief.append(eta)\n",
    "          store.append(get_cartesian_from_barycentric(eta))\n",
    "     token = torch.tensor(token)\n",
    "     belief = torch.stack(belief)\n",
    "     return token,belief,store\n",
    "\n",
    "# helper function\n",
    "def get_cartesian_from_barycentric(b):\n",
    "    t = np.transpose(np.array([[0,0],[1,0],[0.5, np.sqrt(3)/2]])) # Triangle\n",
    "    return t.dot(b)\n",
    "\n",
    "print(get_cartesian_from_barycentric(eta))\n",
    "\n",
    "def plot_beliefs_on_simplex(beliefs: torch.Tensor, title=\"Belief Trajectory\"):\n",
    "    assert beliefs.shape[1] == 3, \"Only works for 3-state HMM\"\n",
    "\n",
    "    # Make triangle float32 to match beliefs\n",
    "    v0 = torch.tensor([0.0, 0.0], dtype=beliefs.dtype)\n",
    "    v1 = torch.tensor([1.0, 0.0], dtype=beliefs.dtype)\n",
    "    v2 = torch.tensor([0.5, torch.sqrt(torch.tensor(3.0, dtype=beliefs.dtype)) / 2], dtype=beliefs.dtype)\n",
    "    triangle = torch.stack([v0, v1, v2])  # [3, 2]\n",
    "    #print(\"triangle:\", triangle)\n",
    "    # Convert belief vectors to xy\n",
    "    xy_coords = beliefs @ triangle  # [T, 2]\n",
    "    #print(\"xy_coords:\", xy_coords.shape)\n",
    "    print(\"examples:\", xy_coords[0:3])\n",
    "    # Plot\n",
    "    plt.figure(figsize=(6, 6))\n",
    "    plt.plot(*zip(*torch.cat([triangle, triangle[0].unsqueeze(0)], dim=0)), color='k', lw=1)\n",
    "    plt.scatter(xy_coords[:, 0], xy_coords[:, 1], s=6, c=range(len(beliefs)), cmap='viridis')\n",
    "    plt.title(title)\n",
    "    plt.axis('equal')\n",
    "    plt.axis('off')\n",
    "    plt.show()\n"
   ]
  },
  {
   "cell_type": "markdown",
   "id": "8fd0e265",
   "metadata": {},
   "source": [
    "Notes that helps you quickly know the shape of the tensors.\n",
    "\n",
    "The T_list, or the msp_matrices, are stacks of three corresponding msp matrix. \n",
    "\n",
    "Let the generation string length be x, then:\n",
    "the tokens are simply 1 dim\n",
    "the tokens are 2 dim, (3,x)"
   ]
  },
  {
   "cell_type": "code",
   "execution_count": 19,
   "id": "aeb1af2b",
   "metadata": {},
   "outputs": [
    {
     "name": "stdout",
     "output_type": "stream",
     "text": [
      "msp_matrices: [tensor([[0.8100, 0.0025, 0.0025],\n",
      "        [0.0450, 0.0450, 0.0025],\n",
      "        [0.0450, 0.0025, 0.0450]]), tensor([[0.0450, 0.0450, 0.0025],\n",
      "        [0.0025, 0.8100, 0.0025],\n",
      "        [0.0025, 0.0450, 0.0450]]), tensor([[0.0450, 0.0025, 0.0450],\n",
      "        [0.0025, 0.0450, 0.0450],\n",
      "        [0.0025, 0.0025, 0.8100]])]\n",
      "pi: 3\n",
      "token.shape: torch.Size([5000])\n",
      "example token: tensor([0.3000, 0.3000, 0.3000, 0.3000, 0.3000], device='mps:0')\n",
      "belief.shape: torch.Size([5000, 3])\n",
      "example belief: tensor([[0.9875, 0.0062, 0.0062],\n",
      "        [0.9931, 0.0034, 0.0034],\n",
      "        [0.9935, 0.0033, 0.0033],\n",
      "        [0.9935, 0.0033, 0.0033],\n",
      "        [0.9935, 0.0033, 0.0033]], device='mps:0')\n"
     ]
    }
   ],
   "source": [
    "t_list = compute_msp_matrices(transition_matrix, emission_matrix)\n",
    "tokens, beliefs,store = generate_store_token_belief(t_list, pi=pi,eta=eta, cycle=5000)\n",
    "tokens = tokens.to(device)\n",
    "beliefs = beliefs.to(device)\n",
    "print(\"token.shape:\", tokens.shape)\n",
    "print(\"example token:\", tokens[0:5])\n",
    "print(\"belief.shape:\", beliefs.shape)\n",
    "print(\"example belief:\", beliefs[0:5])"
   ]
  },
  {
   "cell_type": "code",
   "execution_count": null,
   "id": "ac6d1d09",
   "metadata": {},
   "outputs": [],
   "source": [
    "\n",
    "class ContinuousHMMDataset(torch.utils.data.Dataset):\n",
    "    def __init__(self, tokens, beliefs, seq_len):\n",
    "        self.tokens = tokens\n",
    "        self.beliefs = beliefs\n",
    "        self.seq_len = seq_len\n",
    "        self.length = len(tokens) - seq_len - 1\n",
    "\n",
    "    def __len__(self):\n",
    "        return self.length\n",
    "\n",
    "    def __getitem__(self, idx):\n",
    "        x = self.tokens[idx : idx + self.seq_len]           # [seq_len]\n",
    "        y = self.tokens[idx + 1 : idx + self.seq_len + 1]   # [seq_len]\n",
    "        \n",
    "        b = self.beliefs[idx + 1 : idx + self.seq_len + 1]  # [seq_len, 3]\n",
    "        return x, y, b\n",
    "    \n",
    "def training(model, ds, dl, epochs=20, lr=1e-4, device=device):\n",
    "    model = model.to(device)\n",
    "    optimizer = torch.optim.Adam(model.parameters(), lr=lr)\n",
    "\n",
    "    model.train()\n",
    "    for epoch in range(epochs):\n",
    "        total_loss = 0\n",
    "\n",
    "        for inputs, labels, _ in dl:  # from the dataset\n",
    "            inputs = inputs.to(device)\n",
    "            labels = labels.to(device)\n",
    "\n",
    "            outputs = model(inputs)  # [batch, seq_len, vocab_size]\n",
    "            loss = F.cross_entropy(outputs.view(-1, outputs.size(-1)), labels.view(-1))\n",
    "\n",
    "            optimizer.zero_grad()\n",
    "            loss.backward()\n",
    "            optimizer.step()\n",
    "\n",
    "            total_loss += loss.item()\n",
    "\n",
    "        print(f\"Epoch {epoch + 1}: total loss = {total_loss:.4f}\")"
   ]
  },
  {
   "cell_type": "code",
   "execution_count": 20,
   "id": "7d4808e5",
   "metadata": {},
   "outputs": [],
   "source": [
    "\n",
    "class RNN(nn.Module):\n",
    "    def __init__(self, vocab_size = 3, emb_dim=32, hidden_dim=64, rnn_type=\"GRU\"):\n",
    "        super().__init__()\n",
    "        self.embedding = nn.Embedding(vocab_size, emb_dim)\n",
    "\n",
    "        # Choose between RNN / LSTM / GRU\n",
    "        if rnn_type == \"GRU\":\n",
    "            self.rnn = nn.GRU(input_size=emb_dim, hidden_size=hidden_dim, batch_first=True)\n",
    "        elif rnn_type == \"LSTM\":\n",
    "            self.rnn = nn.LSTM(input_size=emb_dim, hidden_size=hidden_dim, batch_first=True)\n",
    "        elif rnn_type == \"RNN\":\n",
    "            self.rnn = nn.RNN(input_size=emb_dim, hidden_size=hidden_dim, batch_first=True)\n",
    "        else:\n",
    "            raise ValueError(\"Invalid rnn_type. Choose from: 'GRU', 'LSTM', 'RNN'\")\n",
    "\n",
    "        self.output_proj = nn.Linear(hidden_dim, vocab_size)\n",
    "\n",
    "    def forward(self, x):\n",
    "        \"\"\"\n",
    "        x: [B, T] — token indices\n",
    "        returns: [B, T, vocab_size] — logits for next-token prediction\n",
    "        \"\"\"\n",
    "        x = self.embedding(x)           # [B, T, D]\n",
    "        rnn_out, _ = self.rnn(x)        # [B, T, H]\n",
    "        return self.output_proj(rnn_out)  # [B, T, vocab_size]"
   ]
  },
  {
   "cell_type": "code",
   "execution_count": 21,
   "id": "1fcb5054",
   "metadata": {
    "notebookRunGroups": {
     "groupValue": "1"
    }
   },
   "outputs": [
    {
     "data": {
      "text/plain": [
       "Linear(in_features=64, out_features=3, bias=True)"
      ]
     },
     "execution_count": 21,
     "metadata": {},
     "output_type": "execute_result"
    }
   ],
   "source": [
    "#model = CNN(vocab_size=3)\n",
    "model = RNN()\n",
    "model.output_proj\n",
    "\n",
    "#model.output_proj"
   ]
  },
  {
   "cell_type": "code",
   "execution_count": 23,
   "id": "9c4764fa",
   "metadata": {
    "notebookRunGroups": {
     "groupValue": "1"
    }
   },
   "outputs": [
    {
     "name": "stdout",
     "output_type": "stream",
     "text": [
      "Epoch 1: total loss = 28.6634\n",
      "Epoch 2: total loss = 15.2699\n"
     ]
    },
    {
     "ename": "KeyboardInterrupt",
     "evalue": "",
     "output_type": "error",
     "traceback": [
      "\u001b[0;31m---------------------------------------------------------------------------\u001b[0m",
      "\u001b[0;31mKeyboardInterrupt\u001b[0m                         Traceback (most recent call last)",
      "Cell \u001b[0;32mIn[23], line 4\u001b[0m\n\u001b[1;32m      2\u001b[0m ds \u001b[38;5;241m=\u001b[39m ContinuousHMMDataset(tokens, beliefs, seq_len\u001b[38;5;241m=\u001b[39m\u001b[38;5;241m700\u001b[39m)\n\u001b[1;32m      3\u001b[0m dl \u001b[38;5;241m=\u001b[39m torch\u001b[38;5;241m.\u001b[39mutils\u001b[38;5;241m.\u001b[39mdata\u001b[38;5;241m.\u001b[39mDataLoader(ds, batch_size\u001b[38;5;241m=\u001b[39m\u001b[38;5;241m128\u001b[39m, shuffle\u001b[38;5;241m=\u001b[39m\u001b[38;5;28;01mFalse\u001b[39;00m)\n\u001b[0;32m----> 4\u001b[0m \u001b[43mtraining\u001b[49m\u001b[43m(\u001b[49m\u001b[43mmodel\u001b[49m\u001b[43m,\u001b[49m\u001b[43mds\u001b[49m\u001b[43m,\u001b[49m\u001b[43mdl\u001b[49m\u001b[43m)\u001b[49m\n\u001b[1;32m      5\u001b[0m torch\u001b[38;5;241m.\u001b[39msave(model\u001b[38;5;241m.\u001b[39mstate_dict(), \u001b[38;5;124m\"\u001b[39m\u001b[38;5;124mRNN.pth\u001b[39m\u001b[38;5;124m\"\u001b[39m)\n",
      "Cell \u001b[0;32mIn[6], line 37\u001b[0m, in \u001b[0;36mtraining\u001b[0;34m(model, ds, dl, epochs, lr, device)\u001b[0m\n\u001b[1;32m     34\u001b[0m     loss\u001b[38;5;241m.\u001b[39mbackward()\n\u001b[1;32m     35\u001b[0m     optimizer\u001b[38;5;241m.\u001b[39mstep()\n\u001b[0;32m---> 37\u001b[0m     total_loss \u001b[38;5;241m+\u001b[39m\u001b[38;5;241m=\u001b[39m \u001b[43mloss\u001b[49m\u001b[38;5;241;43m.\u001b[39;49m\u001b[43mitem\u001b[49m\u001b[43m(\u001b[49m\u001b[43m)\u001b[49m\n\u001b[1;32m     39\u001b[0m \u001b[38;5;28mprint\u001b[39m(\u001b[38;5;124mf\u001b[39m\u001b[38;5;124m\"\u001b[39m\u001b[38;5;124mEpoch \u001b[39m\u001b[38;5;132;01m{\u001b[39;00mepoch\u001b[38;5;250m \u001b[39m\u001b[38;5;241m+\u001b[39m\u001b[38;5;250m \u001b[39m\u001b[38;5;241m1\u001b[39m\u001b[38;5;132;01m}\u001b[39;00m\u001b[38;5;124m: total loss = \u001b[39m\u001b[38;5;132;01m{\u001b[39;00mtotal_loss\u001b[38;5;132;01m:\u001b[39;00m\u001b[38;5;124m.4f\u001b[39m\u001b[38;5;132;01m}\u001b[39;00m\u001b[38;5;124m\"\u001b[39m)\n",
      "\u001b[0;31mKeyboardInterrupt\u001b[0m: "
     ]
    }
   ],
   "source": [
    "tokens = tokens.long()\n",
    "ds = ContinuousHMMDataset(tokens, beliefs, seq_len=700)\n",
    "dl = torch.utils.data.DataLoader(ds, batch_size=128, shuffle=False)\n",
    "training(model,ds,dl)\n",
    "torch.save(model.state_dict(), \"RNN.pth\")\n"
   ]
  },
  {
   "cell_type": "code",
   "execution_count": null,
   "id": "154f3e4d",
   "metadata": {},
   "outputs": [
    {
     "name": "stderr",
     "output_type": "stream",
     "text": [
      "/var/folders/lr/pld8m16d3c555_tynzkv73p80000gn/T/ipykernel_78758/1670960374.py:10: FutureWarning: You are using `torch.load` with `weights_only=False` (the current default value), which uses the default pickle module implicitly. It is possible to construct malicious pickle data which will execute arbitrary code during unpickling (See https://github.com/pytorch/pytorch/blob/main/SECURITY.md#untrusted-models for more details). In a future release, the default value for `weights_only` will be flipped to `True`. This limits the functions that could be executed during unpickling. Arbitrary objects will no longer be allowed to be loaded via this mode unless they are explicitly allowlisted by the user via `torch.serialization.add_safe_globals`. We recommend you start setting `weights_only=True` for any use case where you don't have full control of the loaded file. Please open an issue on GitHub for any issues related to this experimental feature.\n",
      "  model.load_state_dict(torch.load(\"RNN.pth\"))\n"
     ]
    }
   ],
   "source": [
    "# a dict to store the activations\n",
    "activation = {}\n",
    "def getActivation(name):\n",
    "  # the hook signature\n",
    "  def hook(model, input, output):\n",
    "    activation[name] = output.detach()\n",
    "  return hook\n",
    "\n",
    "model = RNN()\n",
    "model.load_state_dict(torch.load(\"RNN.pth\"))\n",
    "model = model.to(device)\n",
    "model.eval()\n",
    "\n",
    "# register forward hooks on the layers of choice\n",
    "h1 = model.output_proj.register_forward_hook(getActivation('output_proj'))\n",
    "#h2 = model.conv2.register_forward_hook(getActivation('conv2'))\n",
    "#h3 = model.conv1.register_forward_hook(getActivation('conv1'))\n",
    "\n",
    "output_list, conv1_list, conv2_list = [], [], []\n",
    "# go through all the batches in the dataset\n",
    "X, y, true_belief = next(iter(dl))\n",
    "  # forward pass -- getting the outputs\n",
    "out = model(X)\n",
    "  # collect the activations in the correct list\n",
    "conv1_list.append(activation['output_proj'])\n",
    "#conv1_list.append(activation['conv1'])\n",
    "  #comp_list.append(activation['comp']\n",
    "\t\n",
    "# detach the hooks\n",
    "h1.remove()\n",
    "#h2.remove()\n",
    "#h3.remove()"
   ]
  },
  {
   "cell_type": "code",
   "execution_count": 17,
   "id": "af440e87",
   "metadata": {},
   "outputs": [],
   "source": [
    "\n",
    "def probe_rnn_hidden(model, dataloader, true_belief, hook_layer_name=\"rnn\", device=\"cpu\"):\n",
    "    model = model.to(device)\n",
    "    model.eval()\n",
    "\n",
    "    # === Capture activation in this dictionary ===\n",
    "    activation = {}\n",
    "\n",
    "    def get_activation(name):\n",
    "        def hook(model, input, output):\n",
    "            # For GRU/LSTM, output = (output_seq, hidden_state)\n",
    "            if isinstance(output, tuple):\n",
    "                activation[name] = output[0].detach()  # [B, T, H]\n",
    "            else:\n",
    "                activation[name] = output.detach()      # [B, T, H]\n",
    "        return hook\n",
    "\n",
    "    # === Register forward hook on the RNN layer ===\n",
    "    handle = getattr(model, hook_layer_name).register_forward_hook(get_activation(hook_layer_name))\n",
    "\n",
    "    # === Forward pass on 1 batch ===\n",
    "    X, _, _ = next(iter(dataloader))\n",
    "    X = X.to(device)\n",
    "    true_belief = true_belief.to(device)\n",
    "    _ = model(X)  # triggers the hook\n",
    "\n",
    "    # === Cleanup the hook ===\n",
    "    handle.remove()\n",
    "\n",
    "    # === Prepare activations and beliefs for regression ===\n",
    "    reps = activation[hook_layer_name]         # [B, T, H]\n",
    "    reps = reps.reshape(-1, reps.shape[-1])    # [B*T, H]\n",
    "    beliefs = true_belief.reshape(-1, 3)       # [B*T, 3]\n",
    "\n",
    "    # === Linear regression and plotting ===\n",
    "    X_np = reps.detach().cpu().numpy()\n",
    "    Y_np = beliefs.detach().cpu().numpy()\n",
    "    probe = LinearRegression().fit(X_np, Y_np)\n",
    "    Y_pred = probe.predict(X_np)\n",
    "\n",
    "    pred_tensor = torch.tensor(Y_pred, dtype=torch.float32)\n",
    "    plot_beliefs_on_simplex(pred_tensor, title=\"Probed Beliefs from RNN Hidden States\")"
   ]
  },
  {
   "cell_type": "code",
   "execution_count": 18,
   "id": "f15f2da1",
   "metadata": {},
   "outputs": [
    {
     "name": "stderr",
     "output_type": "stream",
     "text": [
      "/var/folders/lr/pld8m16d3c555_tynzkv73p80000gn/T/ipykernel_78758/3955481216.py:2: FutureWarning: You are using `torch.load` with `weights_only=False` (the current default value), which uses the default pickle module implicitly. It is possible to construct malicious pickle data which will execute arbitrary code during unpickling (See https://github.com/pytorch/pytorch/blob/main/SECURITY.md#untrusted-models for more details). In a future release, the default value for `weights_only` will be flipped to `True`. This limits the functions that could be executed during unpickling. Arbitrary objects will no longer be allowed to be loaded via this mode unless they are explicitly allowlisted by the user via `torch.serialization.add_safe_globals`. We recommend you start setting `weights_only=True` for any use case where you don't have full control of the loaded file. Please open an issue on GitHub for any issues related to this experimental feature.\n",
      "  model.load_state_dict(torch.load(\"RNN.pth\"))\n"
     ]
    },
    {
     "name": "stdout",
     "output_type": "stream",
     "text": [
      "examples: tensor([[0.5475, 0.2987],\n",
      "        [0.5920, 0.2796],\n",
      "        [0.5483, 0.2858]])\n"
     ]
    },
    {
     "data": {
      "image/png": "[encoded data removed]",
      "text/plain": [
       "<Figure size 600x600 with 1 Axes>"
      ]
     },
     "metadata": {},
     "output_type": "display_data"
    }
   ],
   "source": [
    "model = RNN(vocab_size=3, emb_dim=32, hidden_dim=64, rnn_type=\"LSTM\")\n",
    "model.load_state_dict(torch.load(\"RNN.pth\"))\n",
    "probe_rnn_hidden(model, dataloader=dl, true_belief=true_belief, device=device)"
   ]
  },
  {
   "cell_type": "code",
   "execution_count": 16,
   "id": "c6e80de3",
   "metadata": {},
   "outputs": [
    {
     "ename": "ValueError",
     "evalue": "Found input variables with inconsistent numbers of samples: [192, 38400]",
     "output_type": "error",
     "traceback": [
      "\u001b[0;31m---------------------------------------------------------------------------\u001b[0m",
      "\u001b[0;31mValueError\u001b[0m                                Traceback (most recent call last)",
      "Cell \u001b[0;32mIn[16], line 10\u001b[0m\n\u001b[1;32m      8\u001b[0m \u001b[38;5;66;03m# Linear regression\u001b[39;00m\n\u001b[1;32m      9\u001b[0m probe \u001b[38;5;241m=\u001b[39m LinearRegression()\n\u001b[0;32m---> 10\u001b[0m \u001b[43mprobe\u001b[49m\u001b[38;5;241;43m.\u001b[39;49m\u001b[43mfit\u001b[49m\u001b[43m(\u001b[49m\u001b[43mX\u001b[49m\u001b[43m,\u001b[49m\u001b[43m \u001b[49m\u001b[43mY\u001b[49m\u001b[43m)\u001b[49m\n\u001b[1;32m     11\u001b[0m Y_pred \u001b[38;5;241m=\u001b[39m probe\u001b[38;5;241m.\u001b[39mpredict(X)\n\u001b[1;32m     13\u001b[0m \u001b[38;5;66;03m# Convert prediction back to tensor\u001b[39;00m\n",
      "File \u001b[0;32m~/miniconda3/envs/deepseek/lib/python3.10/site-packages/sklearn/base.py:1389\u001b[0m, in \u001b[0;36m_fit_context.<locals>.decorator.<locals>.wrapper\u001b[0;34m(estimator, *args, **kwargs)\u001b[0m\n\u001b[1;32m   1382\u001b[0m     estimator\u001b[38;5;241m.\u001b[39m_validate_params()\n\u001b[1;32m   1384\u001b[0m \u001b[38;5;28;01mwith\u001b[39;00m config_context(\n\u001b[1;32m   1385\u001b[0m     skip_parameter_validation\u001b[38;5;241m=\u001b[39m(\n\u001b[1;32m   1386\u001b[0m         prefer_skip_nested_validation \u001b[38;5;129;01mor\u001b[39;00m global_skip_validation\n\u001b[1;32m   1387\u001b[0m     )\n\u001b[1;32m   1388\u001b[0m ):\n\u001b[0;32m-> 1389\u001b[0m     \u001b[38;5;28;01mreturn\u001b[39;00m \u001b[43mfit_method\u001b[49m\u001b[43m(\u001b[49m\u001b[43mestimator\u001b[49m\u001b[43m,\u001b[49m\u001b[43m \u001b[49m\u001b[38;5;241;43m*\u001b[39;49m\u001b[43margs\u001b[49m\u001b[43m,\u001b[49m\u001b[43m \u001b[49m\u001b[38;5;241;43m*\u001b[39;49m\u001b[38;5;241;43m*\u001b[39;49m\u001b[43mkwargs\u001b[49m\u001b[43m)\u001b[49m\n",
      "File \u001b[0;32m~/miniconda3/envs/deepseek/lib/python3.10/site-packages/sklearn/linear_model/_base.py:601\u001b[0m, in \u001b[0;36mLinearRegression.fit\u001b[0;34m(self, X, y, sample_weight)\u001b[0m\n\u001b[1;32m    597\u001b[0m n_jobs_ \u001b[38;5;241m=\u001b[39m \u001b[38;5;28mself\u001b[39m\u001b[38;5;241m.\u001b[39mn_jobs\n\u001b[1;32m    599\u001b[0m accept_sparse \u001b[38;5;241m=\u001b[39m \u001b[38;5;28;01mFalse\u001b[39;00m \u001b[38;5;28;01mif\u001b[39;00m \u001b[38;5;28mself\u001b[39m\u001b[38;5;241m.\u001b[39mpositive \u001b[38;5;28;01melse\u001b[39;00m [\u001b[38;5;124m\"\u001b[39m\u001b[38;5;124mcsr\u001b[39m\u001b[38;5;124m\"\u001b[39m, \u001b[38;5;124m\"\u001b[39m\u001b[38;5;124mcsc\u001b[39m\u001b[38;5;124m\"\u001b[39m, \u001b[38;5;124m\"\u001b[39m\u001b[38;5;124mcoo\u001b[39m\u001b[38;5;124m\"\u001b[39m]\n\u001b[0;32m--> 601\u001b[0m X, y \u001b[38;5;241m=\u001b[39m \u001b[43mvalidate_data\u001b[49m\u001b[43m(\u001b[49m\n\u001b[1;32m    602\u001b[0m \u001b[43m    \u001b[49m\u001b[38;5;28;43mself\u001b[39;49m\u001b[43m,\u001b[49m\n\u001b[1;32m    603\u001b[0m \u001b[43m    \u001b[49m\u001b[43mX\u001b[49m\u001b[43m,\u001b[49m\n\u001b[1;32m    604\u001b[0m \u001b[43m    \u001b[49m\u001b[43my\u001b[49m\u001b[43m,\u001b[49m\n\u001b[1;32m    605\u001b[0m \u001b[43m    \u001b[49m\u001b[43maccept_sparse\u001b[49m\u001b[38;5;241;43m=\u001b[39;49m\u001b[43maccept_sparse\u001b[49m\u001b[43m,\u001b[49m\n\u001b[1;32m    606\u001b[0m \u001b[43m    \u001b[49m\u001b[43my_numeric\u001b[49m\u001b[38;5;241;43m=\u001b[39;49m\u001b[38;5;28;43;01mTrue\u001b[39;49;00m\u001b[43m,\u001b[49m\n\u001b[1;32m    607\u001b[0m \u001b[43m    \u001b[49m\u001b[43mmulti_output\u001b[49m\u001b[38;5;241;43m=\u001b[39;49m\u001b[38;5;28;43;01mTrue\u001b[39;49;00m\u001b[43m,\u001b[49m\n\u001b[1;32m    608\u001b[0m \u001b[43m    \u001b[49m\u001b[43mforce_writeable\u001b[49m\u001b[38;5;241;43m=\u001b[39;49m\u001b[38;5;28;43;01mTrue\u001b[39;49;00m\u001b[43m,\u001b[49m\n\u001b[1;32m    609\u001b[0m \u001b[43m\u001b[49m\u001b[43m)\u001b[49m\n\u001b[1;32m    611\u001b[0m has_sw \u001b[38;5;241m=\u001b[39m sample_weight \u001b[38;5;129;01mis\u001b[39;00m \u001b[38;5;129;01mnot\u001b[39;00m \u001b[38;5;28;01mNone\u001b[39;00m\n\u001b[1;32m    612\u001b[0m \u001b[38;5;28;01mif\u001b[39;00m has_sw:\n",
      "File \u001b[0;32m~/miniconda3/envs/deepseek/lib/python3.10/site-packages/sklearn/utils/validation.py:2961\u001b[0m, in \u001b[0;36mvalidate_data\u001b[0;34m(_estimator, X, y, reset, validate_separately, skip_check_array, **check_params)\u001b[0m\n\u001b[1;32m   2959\u001b[0m         y \u001b[38;5;241m=\u001b[39m check_array(y, input_name\u001b[38;5;241m=\u001b[39m\u001b[38;5;124m\"\u001b[39m\u001b[38;5;124my\u001b[39m\u001b[38;5;124m\"\u001b[39m, \u001b[38;5;241m*\u001b[39m\u001b[38;5;241m*\u001b[39mcheck_y_params)\n\u001b[1;32m   2960\u001b[0m     \u001b[38;5;28;01melse\u001b[39;00m:\n\u001b[0;32m-> 2961\u001b[0m         X, y \u001b[38;5;241m=\u001b[39m \u001b[43mcheck_X_y\u001b[49m\u001b[43m(\u001b[49m\u001b[43mX\u001b[49m\u001b[43m,\u001b[49m\u001b[43m \u001b[49m\u001b[43my\u001b[49m\u001b[43m,\u001b[49m\u001b[43m \u001b[49m\u001b[38;5;241;43m*\u001b[39;49m\u001b[38;5;241;43m*\u001b[39;49m\u001b[43mcheck_params\u001b[49m\u001b[43m)\u001b[49m\n\u001b[1;32m   2962\u001b[0m     out \u001b[38;5;241m=\u001b[39m X, y\n\u001b[1;32m   2964\u001b[0m \u001b[38;5;28;01mif\u001b[39;00m \u001b[38;5;129;01mnot\u001b[39;00m no_val_X \u001b[38;5;129;01mand\u001b[39;00m check_params\u001b[38;5;241m.\u001b[39mget(\u001b[38;5;124m\"\u001b[39m\u001b[38;5;124mensure_2d\u001b[39m\u001b[38;5;124m\"\u001b[39m, \u001b[38;5;28;01mTrue\u001b[39;00m):\n",
      "File \u001b[0;32m~/miniconda3/envs/deepseek/lib/python3.10/site-packages/sklearn/utils/validation.py:1389\u001b[0m, in \u001b[0;36mcheck_X_y\u001b[0;34m(X, y, accept_sparse, accept_large_sparse, dtype, order, copy, force_writeable, force_all_finite, ensure_all_finite, ensure_2d, allow_nd, multi_output, ensure_min_samples, ensure_min_features, y_numeric, estimator)\u001b[0m\n\u001b[1;32m   1370\u001b[0m X \u001b[38;5;241m=\u001b[39m check_array(\n\u001b[1;32m   1371\u001b[0m     X,\n\u001b[1;32m   1372\u001b[0m     accept_sparse\u001b[38;5;241m=\u001b[39maccept_sparse,\n\u001b[0;32m   (...)\u001b[0m\n\u001b[1;32m   1384\u001b[0m     input_name\u001b[38;5;241m=\u001b[39m\u001b[38;5;124m\"\u001b[39m\u001b[38;5;124mX\u001b[39m\u001b[38;5;124m\"\u001b[39m,\n\u001b[1;32m   1385\u001b[0m )\n\u001b[1;32m   1387\u001b[0m y \u001b[38;5;241m=\u001b[39m _check_y(y, multi_output\u001b[38;5;241m=\u001b[39mmulti_output, y_numeric\u001b[38;5;241m=\u001b[39my_numeric, estimator\u001b[38;5;241m=\u001b[39mestimator)\n\u001b[0;32m-> 1389\u001b[0m \u001b[43mcheck_consistent_length\u001b[49m\u001b[43m(\u001b[49m\u001b[43mX\u001b[49m\u001b[43m,\u001b[49m\u001b[43m \u001b[49m\u001b[43my\u001b[49m\u001b[43m)\u001b[49m\n\u001b[1;32m   1391\u001b[0m \u001b[38;5;28;01mreturn\u001b[39;00m X, y\n",
      "File \u001b[0;32m~/miniconda3/envs/deepseek/lib/python3.10/site-packages/sklearn/utils/validation.py:475\u001b[0m, in \u001b[0;36mcheck_consistent_length\u001b[0;34m(*arrays)\u001b[0m\n\u001b[1;32m    473\u001b[0m uniques \u001b[38;5;241m=\u001b[39m np\u001b[38;5;241m.\u001b[39munique(lengths)\n\u001b[1;32m    474\u001b[0m \u001b[38;5;28;01mif\u001b[39;00m \u001b[38;5;28mlen\u001b[39m(uniques) \u001b[38;5;241m>\u001b[39m \u001b[38;5;241m1\u001b[39m:\n\u001b[0;32m--> 475\u001b[0m     \u001b[38;5;28;01mraise\u001b[39;00m \u001b[38;5;167;01mValueError\u001b[39;00m(\n\u001b[1;32m    476\u001b[0m         \u001b[38;5;124m\"\u001b[39m\u001b[38;5;124mFound input variables with inconsistent numbers of samples: \u001b[39m\u001b[38;5;132;01m%r\u001b[39;00m\u001b[38;5;124m\"\u001b[39m\n\u001b[1;32m    477\u001b[0m         \u001b[38;5;241m%\u001b[39m [\u001b[38;5;28mint\u001b[39m(l) \u001b[38;5;28;01mfor\u001b[39;00m l \u001b[38;5;129;01min\u001b[39;00m lengths]\n\u001b[1;32m    478\u001b[0m     )\n",
      "\u001b[0;31mValueError\u001b[0m: Found input variables with inconsistent numbers of samples: [192, 38400]"
     ]
    }
   ],
   "source": [
    "# Convert conv1 output from [B, C, T] to [B, T, C]\n",
    "conv1 = conv1_list[0].permute(0, 2, 1)  # [B, T, C]\n",
    "\n",
    "# Flatten\n",
    "X = conv1.reshape(-1, conv1.shape[-1]).detach().cpu().numpy()        # [B*T, C]\n",
    "Y = true_belief.reshape(-1, 3).detach().cpu().numpy()                # [B*T, 3]\n",
    "\n",
    "# Linear regression\n",
    "probe = LinearRegression()\n",
    "probe.fit(X, Y)\n",
    "Y_pred = probe.predict(X)\n",
    "\n",
    "# Convert prediction back to tensor\n",
    "pred_tensor = torch.tensor(Y_pred, dtype=torch.float32)\n",
    "\n",
    "# Plot on simplex\n",
    "plot_beliefs_on_simplex(pred_tensor, title=\"Probed Beliefs from CNN conv1\")"
   ]
  },
  {
   "cell_type": "code",
   "execution_count": 28,
   "id": "d40e169b",
   "metadata": {},
   "outputs": [
    {
     "name": "stdout",
     "output_type": "stream",
     "text": [
      "examples: tensor([[0.4984, 0.3454],\n",
      "        [0.4921, 0.3440],\n",
      "        [0.5034, 0.3421]])\n"
     ]
    },
    {
     "data": {
      "image/png": "[encoded data removed]",
      "text/plain": [
       "<Figure size 600x600 with 1 Axes>"
      ]
     },
     "metadata": {},
     "output_type": "display_data"
    }
   ],
   "source": [
    "# output_list[0] is [B, T, 3] — already in the correct shape\n",
    "output = output_list[0]  # [B, T, 3]\n",
    "X = output.reshape(-1, 3).detach().cpu().numpy()      # [B*T, 3]\n",
    "Y = true_belief.reshape(-1, 3).detach().cpu().numpy() # [B*T, 3]\n",
    "\n",
    "# Fit regression\n",
    "probe = LinearRegression()\n",
    "probe.fit(X, Y)\n",
    "Y_pred = probe.predict(X)\n",
    "\n",
    "# Convert back to tensor and plot\n",
    "pred_tensor = torch.tensor(Y_pred, dtype=torch.float32)\n",
    "plot_beliefs_on_simplex(pred_tensor, title=\"Probed Beliefs from Output Layer\")"
   ]
  },
  {
   "cell_type": "code",
   "execution_count": null,
   "id": "9d93e04b",
   "metadata": {},
   "outputs": [],
   "source": []
  },
  {
   "cell_type": "code",
   "execution_count": null,
   "id": "f80899f3",
   "metadata": {},
   "outputs": [],
   "source": [
    "class ResidualBlock1D(nn.Module):\n",
    "    def __init__(self, channels, kernel_size=3, dropout=0.1):\n",
    "        super().__init__()\n",
    "        self.conv1 = nn.Conv1d(channels, channels, kernel_size, padding=kernel_size//2)\n",
    "        self.conv2 = nn.Conv1d(channels, channels, kernel_size, padding=kernel_size//2)\n",
    "        self.dropout = nn.Dropout(dropout)\n",
    "        self.norm1 = nn.BatchNorm1d(channels)\n",
    "        self.norm2 = nn.BatchNorm1d(channels)\n",
    "\n",
    "    def forward(self, x):\n",
    "        residual = x\n",
    "        x = self.norm1(x)\n",
    "        x = F.relu(self.conv1(x))\n",
    "        x = self.norm2(x)\n",
    "        x = self.dropout(self.conv2(x))\n",
    "        return F.relu(x + residual)\n",
    "\n",
    "class ResNet1DObserver(nn.Module):\n",
    "    def __init__(self, vocab_size, emb_dim=32, hidden_dim=64, seq_len = 32, num_blocks=4, kernel_size=3):\n",
    "        super().__init__()\n",
    "        self.embedding = nn.Embedding(vocab_size, emb_dim)\n",
    "        self.input_proj = nn.Conv1d(emb_dim, hidden_dim, kernel_size=1)\n",
    "        self.pos_emb = nn.Parameter(torch.randn(1, seq_len, emb_dim))  # [1, T, D]\n",
    "        self.blocks = nn.Sequential(*[\n",
    "            ResidualBlock1D(hidden_dim, kernel_size=kernel_size) for _ in range(num_blocks)\n",
    "        ])\n",
    "\n",
    "        self.output = nn.Linear(hidden_dim, vocab_size)\n",
    "\n",
    "    def forward(self, x):\n",
    "        x = self.embedding(x)                  # [B, T, D]\n",
    "        x = x + self.pos_emb[:, :x.size(1), :]  # add position info\n",
    "        x = x.transpose(1, 2)                  # [B, D, T]\n",
    "        x = self.input_proj(x)                 # [B, H, T]\n",
    "\n",
    "        activations = []\n",
    "        for block in self.blocks:\n",
    "            x = block(x)\n",
    "            activations.append(x.transpose(1, 2))  # convert back to [B, T, H]\n",
    "\n",
    "        logits = self.output(x.transpose(1, 2))    # [B, T, vocab]\n",
    "        return logits, activations  # [B, T, vocab], [num_layers * [B, T, H]]"
   ]
  },
  {
   "cell_type": "code",
   "execution_count": null,
   "id": "86ea38c7",
   "metadata": {},
   "outputs": [],
   "source": [
    "#plot_beliefs_on_simplex(beliefs[:3].cpu(), title=\"Ground Truth Beliefs\")"
   ]
  },
  {
   "cell_type": "code",
   "execution_count": null,
   "id": "837c6aa3",
   "metadata": {},
   "outputs": [],
   "source": [
    "tokens = tokens.long()\n",
    "model = ResNet1DObserver(vocab_size=3, emb_dim=32, hidden_dim=64, num_blocks=6)\n",
    "model.to(device)\n",
    "\n",
    "ds = ContinuousHMMDataset(tokens, beliefs, seq_len=32)\n",
    "dl = torch.utils.data.DataLoader(ds, batch_size=16, shuffle=False, drop_last=True)\n",
    "\n",
    "print(\"token entropy:\", torch.unique(tokens, return_counts=True))\n",
    "optimizer = torch.optim.Adam(model.parameters(), lr=1e-4)\n",
    "\n",
    "for epoch in range(2):\n",
    "    total_loss = 0\n",
    "    print(\"embedding:\", model.embedding(tokens[:1]))\n",
    "    #print(\"rep layer 0:\", activations[0][0, :5])\n",
    "    for x, y, _ in dl:\n",
    "        x = x.to(device)\n",
    "        y = y.to(device)\n",
    "        logits, _ = model(x)\n",
    "        loss = F.cross_entropy(logits.view(-1, 3), y.view(-1))\n",
    "        optimizer.zero_grad()\n",
    "        loss.backward()\n",
    "        optimizer.step()\n",
    "        total_loss += loss.item()\n",
    "        #print(\"example logits:\", logits[0])\n",
    "    print(f\"Epoch {epoch}: loss = {total_loss:.4f}\")"
   ]
  },
  {
   "cell_type": "code",
   "execution_count": null,
   "id": "0a402665",
   "metadata": {},
   "outputs": [],
   "source": [
    "model.eval()\n",
    "all_layer_reps = [[] for _ in range(len(model.blocks))]\n",
    "all_beliefs = []\n",
    "\n",
    "with torch.no_grad():\n",
    "    for x, _, beliefs in dl:\n",
    "        x = x.to(device)\n",
    "        beliefs = beliefs.to(device)\n",
    "        _, layer_outputs = model(x)  # list of [B, T, H]\n",
    "\n",
    "        for i, act in enumerate(layer_outputs):\n",
    "            all_layer_reps[i].append(act)\n",
    "\n",
    "        all_beliefs.append(beliefs)\n",
    "\n",
    "# Stack and reshape\n",
    "belief_targets = torch.cat(all_beliefs, dim=0).reshape(-1, 3)  # [B*T, 3]\n",
    "\n",
    "for i, layer_list in enumerate(all_layer_reps):\n",
    "    reps = torch.cat(layer_list, dim=0).reshape(-1, layer_list[0].shape[-1])  # [B*T, H]\n",
    "\n",
    "    # Fit linear regression probe\n",
    "    X = reps.cpu().numpy()\n",
    "    Y = belief_targets.cpu().numpy()\n",
    "\n",
    "    probe = LinearRegression().fit(X, Y)\n",
    "    pred = probe.predict(X)\n",
    "    pred_tensor = torch.tensor(pred, dtype=torch.float32)\n",
    "\n",
    "    # Visualize\n",
    "    plot_beliefs_on_simplex(pred_tensor, title=f\"Probed beliefs from Layer {i}\")"
   ]
  },
  {
   "cell_type": "code",
   "execution_count": null,
   "id": "1a276975",
   "metadata": {},
   "outputs": [],
   "source": []
  },
  {
   "cell_type": "code",
   "execution_count": null,
   "id": "d3f8f709",
   "metadata": {},
   "outputs": [],
   "source": [
    "class HMMDataset(Dataset):\n",
    "    def __init__(self, tokens, beliefs, seq_len=32):\n",
    "        self.seq_len = seq_len\n",
    "        self.tokens = tokens\n",
    "        self.beliefs = beliefs\n",
    "        self.num_samples = len(tokens) - seq_len\n",
    "\n",
    "    def __len__(self):\n",
    "        return self.num_samples\n",
    "\n",
    "    def __getitem__(self, idx):\n",
    "        x = self.tokens[idx : idx + self.seq_len]\n",
    "        y = self.tokens[idx + 1 : idx + self.seq_len + 1]\n",
    "        b = self.beliefs[idx + 1 : idx + self.seq_len + 1]\n",
    "        return x, y, b\n",
    "\n",
    "class ResNet1DObserver(nn.Module):\n",
    "    def __init__(self, vocab_size, emb_dim=32, hidden_dim=64, num_blocks=4, kernel_size=3):\n",
    "        super().__init__()\n",
    "        self.embedding = nn.Embedding(vocab_size, emb_dim)\n",
    "        self.input_proj = nn.Conv1d(emb_dim, hidden_dim, kernel_size=1)\n",
    "\n",
    "        self.blocks = nn.Sequential(*[\n",
    "            ResidualBlock1D(hidden_dim, kernel_size=kernel_size) for _ in range(num_blocks)\n",
    "        ])\n",
    "\n",
    "        self.output = nn.Linear(hidden_dim, vocab_size)\n",
    "\n",
    "    def forward(self, x):\n",
    "        \"\"\"\n",
    "        x: [B, T] → token indices\n",
    "        returns: logits [B, T, vocab_size], and hidden features [B, T, hidden_dim]\n",
    "        \"\"\"\n",
    "        x = self.embedding(x)                  # [B, T, D]\n",
    "        x = x.transpose(1, 2)                  # [B, D, T]\n",
    "        x = self.input_proj(x)                 # [B, H, T]\n",
    "        x = self.blocks(x)                     # [B, H, T]\n",
    "        x = x.transpose(1, 2)                  # [B, T, H]\n",
    "        logits = self.output(x)                # [B, T, vocab_size]\n",
    "        return logits, x\n",
    "\n",
    "lass CNNHMMObserver(nn.Module):\n",
    "    def __init__(self, vocab_size, emb_dim=32, hidden_dim=64, kernel_size=3):\n",
    "        super().__init__()\n",
    "        self.embedding = nn.Embedding(vocab_size, emb_dim)\n",
    "        self.conv1 = nn.Conv1d(in_channels=emb_dim, out_channels=hidden_dim, kernel_size=kernel_size, padding=1)\n",
    "        self.conv2 = nn.Conv1d(in_channels=hidden_dim, out_channels=hidden_dim, kernel_size=kernel_size, padding=1)\n",
    "        self.output = nn.Linear(hidden_dim, vocab_size)  # for next-token prediction\n",
    "\n",
    "    def forward(self, x):\n",
    "        \"\"\"\n",
    "        x: LongTensor of shape [B, T]\n",
    "        Returns:\n",
    "            logits: [B, T, vocab_size]\n",
    "            hidden: [B, T, hidden_dim] ← this is our \"residual stream\"\n",
    "        \"\"\"\n",
    "        x = self.embedding(x)         # [B, T, D]\n",
    "        x = x.transpose(1, 2)         # [B, D, T] for Conv1d\n",
    "        x = F.relu(self.conv1(x))     # [B, H, T]\n",
    "        #x = F.relu(self.conv2(x))     # [B, H, T]\n",
    "        x = x.transpose(1, 2)         # [B, T, H] back to standard format\n",
    "        logits = self.output(x)       # [B, T, vocab_size]\n",
    "        #print(\"example logits:\", logits[0])\n",
    "        return logits, x              # logits and internal representation\n",
    "    \n",
    "class CNNHMMObserver(nn.Module):\n",
    "    def __init__(self, vocab_size, emb_dim=32, hidden_dim=64, kernel_size=3):\n",
    "        super().__init__()\n",
    "        self.embedding = nn.Embedding(vocab_size, emb_dim)\n",
    "        self.conv1 = nn.Conv1d(in_channels=emb_dim, out_channels=hidden_dim, kernel_size=kernel_size, padding=1)\n",
    "        self.conv2 = nn.Conv1d(in_channels=hidden_dim, out_channels=hidden_dim, kernel_size=kernel_size, padding=1)\n",
    "        self.output = nn.Linear(hidden_dim, vocab_size)  # for next-token prediction\n",
    "\n",
    "    def forward(self, x):\n",
    "        \"\"\"\n",
    "        x: LongTensor of shape [B, T]\n",
    "        Returns:\n",
    "            logits: [B, T, vocab_size]\n",
    "            hidden: [B, T, hidden_dim] ← this is our \"residual stream\"\n",
    "        \"\"\"\n",
    "        x = self.embedding(x)         # [B, T, D]\n",
    "        x = x.transpose(1, 2)         # [B, D, T] for Conv1d\n",
    "        x = F.relu(self.conv1(x))     # [B, H, T]\n",
    "        #x = F.relu(self.conv2(x))     # [B, H, T]\n",
    "        x = x.transpose(1, 2)         # [B, T, H] back to standard format\n",
    "        logits = self.output(x)       # [B, T, vocab_size]\n",
    "        #print(\"example logits:\", logits[0])\n",
    "        return logits, x              # logits and internal representation "
   ]
  }
 ],
 "metadata": {
  "kernelspec": {
   "display_name": "deepseek",
   "language": "python",
   "name": "python3"
  },
  "language_info": {
   "codemirror_mode": {
    "name": "ipython",
    "version": 3
   },
   "file_extension": ".py",
   "mimetype": "text/x-python",
   "name": "python",
   "nbconvert_exporter": "python",
   "pygments_lexer": "ipython3",
   "version": "3.10.13"
  }
 },
 "nbformat": 4,
 "nbformat_minor": 5
}
