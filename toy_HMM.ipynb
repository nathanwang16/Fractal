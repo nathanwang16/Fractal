{
 "cells": [
  {
   "cell_type": "code",
   "execution_count": null,
   "id": "dec68dd6",
   "metadata": {},
   "outputs": [],
   "source": [
    "import numpy as np\n",
    "import matplotlib.pyplot as plt"
   ]
  },
  {
   "cell_type": "markdown",
   "id": "3a01aed3",
   "metadata": {},
   "source": [
    "Define transition, emission, initial probability that are central to a HMM process"
   ]
  },
  {
   "cell_type": "code",
   "execution_count": 3,
   "id": "458e2b80",
   "metadata": {},
   "outputs": [],
   "source": [
    "       # Hidden State Ha   Hb    Hc\n",
    "transition_matrix = [[0.9,0.05,0.05],\n",
    "                     [0.05,0.9,0.05],\n",
    "                     [0.05,0.05,0.9]]\n",
    "transition_matrix = np.array(transition_matrix)\n",
    "       # emissions  # A   B    C\n",
    "emission_matrix = [[0.9,0.05,0.05],\n",
    "                     [0.05,0.9,0.05],\n",
    "                     [0.05,0.05,0.9]]\n",
    "emission_matrix = np.array(emission_matrix)\n",
    "\n",
    "pi = [0.3,0.4,0.3]"
   ]
  },
  {
   "cell_type": "markdown",
   "id": "d94e3a25",
   "metadata": {},
   "source": [
    "Updating the model; The point is to treat this process as matrix multiplication with 2 parts: vectors, and the weighted transition matrix it multiplies to..."
   ]
  },
  {
   "cell_type": "code",
   "execution_count": 4,
   "id": "6f02802d",
   "metadata": {},
   "outputs": [
    {
     "name": "stdout",
     "output_type": "stream",
     "text": [
      "[0.9  0.05 0.05]\n",
      "alpha: [0.27  0.02  0.015]\n"
     ]
    }
   ],
   "source": [
    "# Forward Algorithm\n",
    "print(emission_matrix[:,0])\n",
    "alpha = pi * emission_matrix[:,0]\n",
    "print(\"alpha:\", alpha)"
   ]
  },
  {
   "cell_type": "code",
   "execution_count": 5,
   "id": "bf415445",
   "metadata": {},
   "outputs": [
    {
     "name": "stdout",
     "output_type": "stream",
     "text": [
      "[0.0275     0.01299038]\n"
     ]
    }
   ],
   "source": [
    "# helper function\n",
    "def get_cartesian_from_barycentric(b):\n",
    "    t = np.transpose(np.array([[0,0],[1,0],[0.5, np.sqrt(3)/2]])) # Triangle\n",
    "    return t.dot(b)\n",
    "\n",
    "print(get_cartesian_from_barycentric(alpha))"
   ]
  },
  {
   "cell_type": "code",
   "execution_count": null,
   "id": "b88de0b5",
   "metadata": {},
   "outputs": [],
   "source": [
    "store = [get_cartesian_from_barycentric(alpha)]\n",
    "\n",
    "for t in range(1,10000):\n",
    "    dice = np.random.choice([0,1,2]) \n",
    "    #print(\"dice:\", dice)\n",
    "    alpha = (alpha @ transition_matrix) * emission_matrix[:,dice]\n",
    "    alpha = alpha / np.sum(alpha)\n",
    "    #print(\"alpha:\", alpha)\n",
    "    store.append(get_cartesian_from_barycentric(alpha))\n",
    "    #print(\"store:\", store[-1])\n",
    "    \n",
    "# Plotting\n",
    "store = np.array(store)\n",
    "plt.figure(figsize=(6, 6))\n",
    "plt.plot(store[:, 0], store[:, 1], 'k.', markersize=0.5)\n",
    "plt.axis('equal')\n",
    "plt.title(\"HMM possible distributions\")\n",
    "plt.show()"
   ]
  }
 ],
 "metadata": {
  "kernelspec": {
   "display_name": "deepseek",
   "language": "python",
   "name": "python3"
  },
  "language_info": {
   "codemirror_mode": {
    "name": "ipython",
    "version": 3
   },
   "file_extension": ".py",
   "mimetype": "text/x-python",
   "name": "python",
   "nbconvert_exporter": "python",
   "pygments_lexer": "ipython3",
   "version": "3.10.13"
  }
 },
 "nbformat": 4,
 "nbformat_minor": 5
}
