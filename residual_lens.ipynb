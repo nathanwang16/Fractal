{
 "cells": [
  {
   "cell_type": "markdown",
   "id": "1a790766",
   "metadata": {},
   "source": [
    "In the previous notebook we set up a HMM and forward computing process. This one will extend that idea, with a few differences. "
   ]
  },
  {
   "cell_type": "code",
   "execution_count": 1,
   "id": "e3c9482e",
   "metadata": {},
   "outputs": [
    {
     "name": "stderr",
     "output_type": "stream",
     "text": [
      "/Users/xiaoyuwang/miniconda3/envs/deepseek/lib/python3.10/site-packages/tqdm/auto.py:21: TqdmWarning: IProgress not found. Please update jupyter and ipywidgets. See https://ipywidgets.readthedocs.io/en/stable/user_install.html\n",
      "  from .autonotebook import tqdm as notebook_tqdm\n"
     ]
    }
   ],
   "source": [
    "import torch\n",
    "import numpy as np\n",
    "import matplotlib.pyplot as plt\n",
    "\n",
    "from sklearn.linear_model import LinearRegression\n",
    "\n",
    "import torch.optim as optim\n",
    "import torch.utils.data as data\n",
    "import torch.nn as nn\n",
    "import torch.nn.functional as F\n",
    "from torch.utils.data import Dataset\n",
    "\n",
    "from transformer_lens import HookedTransformer, HookedTransformerConfig"
   ]
  },
  {
   "cell_type": "code",
   "execution_count": 2,
   "id": "59aa7e4a",
   "metadata": {},
   "outputs": [
    {
     "name": "stdout",
     "output_type": "stream",
     "text": [
      "✅ Using Apple M1/M2 GPU via MPS\n",
      "tensor([[1, 2, 3, 4]])\n",
      "tensor([[1],\n",
      "        [2],\n",
      "        [3],\n",
      "        [4]])\n"
     ]
    }
   ],
   "source": [
    "if torch.backends.mps.is_available():\n",
    "    device = torch.device(\"mps\")\n",
    "    print(\"✅ Using Apple M1/M2 GPU via MPS\")\n",
    "else:\n",
    "    device = torch.device(\"cpu\")\n",
    "    print(\"⚠️ MPS not available, falling back to CPU\")\n",
    "# experimenting with torch\n",
    "# unsqueeze function\n",
    "x = torch.tensor([1, 2, 3, 4])\n",
    "c = torch.unsqueeze(x, 0)  # adds a dimension at index 0\n",
    "print(c)\n",
    "b = torch.unsqueeze(x, 1)  # adds a dimension at index 1\n",
    "print(b)\n",
    "\n",
    "       # Hidden State Ha   Hb    Hc\n",
    "transition_matrix = torch.tensor([[0.9,0.05,0.05],\n",
    "                     [0.05,0.9,0.05],\n",
    "                     [0.05,0.05,0.9]])\n",
    "\n",
    "       # emissions  # A   B    C\n",
    "emission_matrix = torch.tensor([[0.9,0.05,0.05],\n",
    "                     [0.05,0.9,0.05],\n",
    "                     [0.05,0.05,0.9]])\n",
    "\n",
    "\n",
    "pi = torch.tensor([0.3,0.4,0.3])\n",
    "\n",
    "eta = torch.tensor([0.9,0.05,0.05])"
   ]
  },
  {
   "cell_type": "markdown",
   "id": "5f5afe92",
   "metadata": {},
   "source": [
    "Now imagine the state and symbols are mixed into a single matrix. Design this matrix M to be able to update once every transition, that transform the current mixed state to a linear combination of it, which is the updated mixed state. Because M already inform us about the probability distribution, the update should include the symbol, and we choose one of the three msp matrix to update the probability. "
   ]
  },
  {
   "cell_type": "code",
   "execution_count": 3,
   "id": "b6e5d403",
   "metadata": {},
   "outputs": [
    {
     "name": "stdout",
     "output_type": "stream",
     "text": [
      "[0.075      0.04330127]\n"
     ]
    }
   ],
   "source": [
    "def compute_msp_matrices(A: torch.Tensor, B: torch.Tensor):\n",
    "    \"\"\"\n",
    "    Given HMM transition matrix A [N, N] and emission matrix B [N, M],\n",
    "    return a list of MSP matrices T_k, one for each observation symbol k.\n",
    "    \"\"\"\n",
    "    N, M = B.shape\n",
    "    T_list = []\n",
    "    \n",
    "    for k in range(M):  # loop over observation symbols\n",
    "        emission_col = B[:, k]                      # shape (N,)\n",
    "        T_k = A * emission_col.unsqueeze(0)         # broadcast multiply to shape (N, N)\n",
    "        T_list.append(T_k)\n",
    "    print(\"T_list:\", T_list)\n",
    "    return T_list  # list of [N x N] tensors, each is T_k\n",
    "\n",
    "def generate_store_token_belief(T_list,pi:torch.tensor,eta,cycle,seed=None):\n",
    "     token = []\n",
    "     belief = []\n",
    "     store = []\n",
    "     eta = eta\n",
    "     print(\"pi:\", pi.shape[0])\n",
    "     if seed is not None:\n",
    "          torch.manual_seed(seed)\n",
    "     for _ in range(cycle):\n",
    "          dice = np.random.choice(pi.shape[0])\n",
    "          #print(\"dice:\", dice)\n",
    "          t_x = T_list[dice]\n",
    "          \n",
    "          eta = eta @ t_x\n",
    "          eta = eta / eta.sum()\n",
    "          \n",
    "          token.append(pi[dice])\n",
    "          belief.append(eta)\n",
    "          store.append(get_cartesian_from_barycentric(eta))\n",
    "     token = torch.tensor(token)\n",
    "     belief = torch.stack(belief)\n",
    "     return token,belief,store\n",
    "\n",
    "# helper function\n",
    "def get_cartesian_from_barycentric(b):\n",
    "    t = np.transpose(np.array([[0,0],[1,0],[0.5, np.sqrt(3)/2]])) # Triangle\n",
    "    return t.dot(b)\n",
    "\n",
    "print(get_cartesian_from_barycentric(eta))\n",
    "\n",
    "def plot_beliefs_on_simplex(beliefs: torch.Tensor, title=\"Belief Trajectory\"):\n",
    "    assert beliefs.shape[1] == 3, \"Only works for 3-state HMM\"\n",
    "\n",
    "    # Make triangle float32 to match beliefs\n",
    "    v0 = torch.tensor([0.0, 0.0], dtype=beliefs.dtype)\n",
    "    v1 = torch.tensor([1.0, 0.0], dtype=beliefs.dtype)\n",
    "    v2 = torch.tensor([0.5, torch.sqrt(torch.tensor(3.0, dtype=beliefs.dtype)) / 2], dtype=beliefs.dtype)\n",
    "    triangle = torch.stack([v0, v1, v2])  # [3, 2]\n",
    "    print(\"triangle:\", triangle)\n",
    "    # Convert belief vectors to xy\n",
    "    xy_coords = beliefs @ triangle  # [T, 2]\n",
    "    print(\"xy_coords:\", xy_coords.shape)\n",
    "    print(\"examples:\", xy_coords[0:50])\n",
    "    # Plot\n",
    "    plt.figure(figsize=(6, 6))\n",
    "    plt.plot(*zip(*torch.cat([triangle, triangle[0].unsqueeze(0)], dim=0)), color='k', lw=1)\n",
    "    plt.scatter(xy_coords[:, 0], xy_coords[:, 1], s=6, c=range(len(beliefs)), cmap='viridis')\n",
    "    plt.title(title)\n",
    "    plt.axis('equal')\n",
    "    plt.axis('off')\n",
    "    plt.show()\n"
   ]
  },
  {
   "cell_type": "code",
   "execution_count": 4,
   "id": "aeb1af2b",
   "metadata": {},
   "outputs": [
    {
     "name": "stdout",
     "output_type": "stream",
     "text": [
      "T_list: [tensor([[0.8100, 0.0025, 0.0025],\n",
      "        [0.0450, 0.0450, 0.0025],\n",
      "        [0.0450, 0.0025, 0.0450]]), tensor([[0.0450, 0.0450, 0.0025],\n",
      "        [0.0025, 0.8100, 0.0025],\n",
      "        [0.0025, 0.0450, 0.0450]]), tensor([[0.0450, 0.0025, 0.0450],\n",
      "        [0.0025, 0.0450, 0.0450],\n",
      "        [0.0025, 0.0025, 0.8100]])]\n",
      "pi: 3\n"
     ]
    }
   ],
   "source": [
    "t_list = compute_msp_matrices(transition_matrix, emission_matrix)\n",
    "tokens, beliefs,store = generate_store_token_belief(t_list, pi=pi,eta=eta, cycle=100000)\n",
    "tokens = tokens.to(device)\n",
    "beliefs = beliefs.to(device)"
   ]
  },
  {
   "cell_type": "code",
   "execution_count": null,
   "id": "27d599dd",
   "metadata": {},
   "outputs": [],
   "source": [
    "seq_len = 32\n",
    "cfg = HookedTransformerConfig(\n",
    "    d_model=64,\n",
    "    n_layers=4,\n",
    "    n_heads=2,\n",
    "    d_head=32,  # d_model = n_heads * d_head\n",
    "    d_vocab=3,\n",
    "    n_ctx=seq_len,\n",
    "    act_fn=\"relu\",\n",
    "    seed=41,\n",
    "    tokenizer_name=None,\n",
    "    device=device,\n",
    ")\n",
    "model = HookedTransformer(cfg)"
   ]
  },
  {
   "cell_type": "code",
   "execution_count": 6,
   "id": "efbbe58a",
   "metadata": {},
   "outputs": [],
   "source": [
    "class ContinuousHMMDataset(torch.utils.data.Dataset):\n",
    "    def __init__(self, tokens, beliefs, seq_len):\n",
    "        self.tokens = tokens\n",
    "        self.beliefs = beliefs\n",
    "        self.seq_len = seq_len\n",
    "        self.length = len(tokens) - seq_len - 1\n",
    "\n",
    "    def __len__(self):\n",
    "        return self.length\n",
    "\n",
    "    def __getitem__(self, idx):\n",
    "        x = self.tokens[idx : idx + self.seq_len]           # [seq_len]\n",
    "        y = self.tokens[idx + 1 : idx + self.seq_len + 1]   # [seq_len]\n",
    "        b = self.beliefs[idx + 1 : idx + self.seq_len + 1]  # [seq_len, 3]\n",
    "        return x, y, b"
   ]
  },
  {
   "cell_type": "code",
   "execution_count": 7,
   "id": "14deb6d2",
   "metadata": {},
   "outputs": [
    {
     "name": "stdout",
     "output_type": "stream",
     "text": [
      "Moving model to device:  mps\n"
     ]
    }
   ],
   "source": [
    "tokens = tokens.long()\n",
    "tokens.to(device)\n",
    "\n",
    "model.to(device)\n",
    "ds = ContinuousHMMDataset(tokens, beliefs, seq_len=32)\n",
    "dataloader = torch.utils.data.DataLoader(ds, batch_size=16, shuffle=False, drop_last=True)"
   ]
  },
  {
   "cell_type": "code",
   "execution_count": null,
   "id": "26a0ebdb",
   "metadata": {},
   "outputs": [],
   "source": [
    "optimizer = torch.optim.Adam(model.parameters(), lr=1e-3)\n",
    "\n",
    "model.train()\n",
    "for epoch in range(2):\n",
    "    total_loss = 0\n",
    "    for x, y, _ in dataloader:\n",
    "        x, y = x.to(device), y.to(device)\n",
    "        logits = model(x)\n",
    "        loss = F.cross_entropy(logits.view(-1, cfg.d_vocab), y.view(-1))\n",
    "        loss.backward()\n",
    "        optimizer.step()\n",
    "        optimizer.zero_grad()\n",
    "        total_loss += loss.item()\n",
    "    print(f\"Epoch {epoch}: {total_loss:.4f}\")"
   ]
  },
  {
   "cell_type": "code",
   "execution_count": null,
   "id": "0bf17e0d",
   "metadata": {},
   "outputs": [],
   "source": [
    "input_batch = next(iter(dataloader))[0].to(device)  # just grab 1 batch\n",
    "\n",
    "logits, cache = model.run_with_cache(input_batch)\n",
    "\n",
    "# For example, get residual after final layer:\n",
    "resid_post = cache[\"resid_post\", -1]  # shape [B, T, d_model]\n",
    "\n",
    "all_beliefs = []\n",
    "\n",
    "model.eval()\n",
    "with torch.no_grad():\n",
    "    for x, _, beliefs in dataloader:\n",
    "        x = x.to(device)\n",
    "        logits, cache = model.run_with_cache(x)\n",
    "        all_beliefs.append(beliefs)\n",
    "\n",
    "belief_targets = torch.cat(all_beliefs, dim=0).reshape(-1, beliefs.shape[-1])"
   ]
  },
  {
   "cell_type": "code",
   "execution_count": null,
   "id": "7d272968",
   "metadata": {},
   "outputs": [
    {
     "name": "stdout",
     "output_type": "stream",
     "text": [
      "triangle: tensor([[0.0000, 0.0000],\n",
      "        [1.0000, 0.0000],\n",
      "        [0.5000, 0.8660]])\n",
      "xy_coords: torch.Size([512, 2])\n",
      "examples: tensor([[0.4290, 0.4876],\n",
      "        [0.4869, 0.4829],\n",
      "        [0.5251, 0.4437],\n",
      "        [0.5566, 0.3912],\n",
      "        [0.5726, 0.3707],\n",
      "        [0.5743, 0.3690],\n",
      "        [0.5945, 0.3366],\n",
      "        [0.6108, 0.3226],\n",
      "        [0.6023, 0.2767],\n",
      "        [0.5734, 0.2238],\n",
      "        [0.5425, 0.1702],\n",
      "        [0.5288, 0.1436],\n",
      "        [0.5422, 0.1691],\n",
      "        [0.5436, 0.1720],\n",
      "        [0.5436, 0.1742],\n",
      "        [0.5592, 0.2161],\n",
      "        [0.5572, 0.2311],\n",
      "        [0.5569, 0.2323],\n",
      "        [0.5372, 0.2641],\n",
      "        [0.5346, 0.2679],\n",
      "        [0.5438, 0.3041],\n",
      "        [0.5723, 0.3562],\n",
      "        [0.5476, 0.3795],\n",
      "        [0.5169, 0.4296],\n",
      "        [0.5035, 0.4453],\n",
      "        [0.5296, 0.4933],\n",
      "        [0.5603, 0.5465],\n",
      "        [0.5585, 0.5437],\n",
      "        [0.5305, 0.4952],\n",
      "        [0.5206, 0.4760],\n",
      "        [0.5188, 0.4654],\n",
      "        [0.4964, 0.4185],\n",
      "        [0.4290, 0.4876],\n",
      "        [0.4869, 0.4829],\n",
      "        [0.5251, 0.4437],\n",
      "        [0.5566, 0.3912],\n",
      "        [0.5726, 0.3707],\n",
      "        [0.5743, 0.3690],\n",
      "        [0.5945, 0.3366],\n",
      "        [0.6108, 0.3226],\n",
      "        [0.6023, 0.2767],\n",
      "        [0.5734, 0.2238],\n",
      "        [0.5425, 0.1702],\n",
      "        [0.5288, 0.1436],\n",
      "        [0.5422, 0.1691],\n",
      "        [0.5436, 0.1720],\n",
      "        [0.5436, 0.1742],\n",
      "        [0.5592, 0.2161],\n",
      "        [0.5572, 0.2311],\n",
      "        [0.5569, 0.2323]])\n"
     ]
    },
    {
     "data": {
      "image/png": "[encoded data removed]",
      "text/plain": [
       "<Figure size 600x600 with 1 Axes>"
      ]
     },
     "metadata": {},
     "output_type": "display_data"
    }
   ],
   "source": [
    "reps = resid_post.reshape(-1, resid_post.shape[-1]).cpu()\n",
    "Y = belief_targets[:reps.shape[0]].cpu()  # crop if needed\n",
    "\n",
    "from sklearn.linear_model import LinearRegression\n",
    "probe = LinearRegression().fit(reps, Y)\n",
    "Y_pred = probe.predict(reps)\n",
    "\n",
    "plot_beliefs_on_simplex(torch.tensor(Y_pred), title=\"Probed beliefs (TransformerLens)\")"
   ]
  }
 ],
 "metadata": {
  "kernelspec": {
   "display_name": "deepseek",
   "language": "python",
   "name": "python3"
  },
  "language_info": {
   "codemirror_mode": {
    "name": "ipython",
    "version": 3
   },
   "file_extension": ".py",
   "mimetype": "text/x-python",
   "name": "python",
   "nbconvert_exporter": "python",
   "pygments_lexer": "ipython3",
   "version": "3.10.13"
  }
 },
 "nbformat": 4,
 "nbformat_minor": 5
}
