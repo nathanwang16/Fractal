{
 "cells": [
  {
   "cell_type": "markdown",
   "id": "1a790766",
   "metadata": {},
   "source": [
    "In the previous notebook we set up a HMM and forward computing process. This one will extend that idea, with a few differences. "
   ]
  },
  {
   "cell_type": "code",
   "execution_count": 1,
   "id": "e3c9482e",
   "metadata": {},
   "outputs": [
    {
     "name": "stderr",
     "output_type": "stream",
     "text": [
      "/Users/xiaoyuwang/miniconda3/envs/deepseek/lib/python3.10/site-packages/tqdm/auto.py:21: TqdmWarning: IProgress not found. Please update jupyter and ipywidgets. See https://ipywidgets.readthedocs.io/en/stable/user_install.html\n",
      "  from .autonotebook import tqdm as notebook_tqdm\n"
     ]
    }
   ],
   "source": [
    "import torch\n",
    "import numpy as np\n",
    "import matplotlib.pyplot as plt\n",
    "\n",
    "from sklearn.linear_model import LinearRegression\n",
    "\n",
    "import torch.optim as optim\n",
    "import torch.utils.data as data\n",
    "import torch.nn as nn\n",
    "import torch.nn.functional as F\n",
    "from torch.utils.data import Dataset\n",
    "\n",
    "from transformer_lens import HookedTransformer, HookedTransformerConfig"
   ]
  },
  {
   "cell_type": "code",
   "execution_count": 2,
   "id": "59aa7e4a",
   "metadata": {},
   "outputs": [
    {
     "name": "stdout",
     "output_type": "stream",
     "text": [
      "✅ Using Apple M1/M2 GPU via MPS\n",
      "tensor([[1, 2, 3, 4]])\n",
      "tensor([[1],\n",
      "        [2],\n",
      "        [3],\n",
      "        [4]])\n"
     ]
    }
   ],
   "source": [
    "if torch.backends.mps.is_available():\n",
    "    device = torch.device(\"mps\")\n",
    "    print(\"✅ Using Apple M1/M2 GPU via MPS\")\n",
    "else:\n",
    "    device = torch.device(\"cpu\")\n",
    "    print(\"⚠️ MPS not available, falling back to CPU\")\n",
    "# experimenting with torch\n",
    "# unsqueeze function\n",
    "x = torch.tensor([1, 2, 3, 4])\n",
    "c = torch.unsqueeze(x, 0)  # adds a dimension at index 0\n",
    "print(c)\n",
    "b = torch.unsqueeze(x, 1)  # adds a dimension at index 1\n",
    "print(b)\n",
    "\n",
    "       # Hidden State Ha   Hb    Hc\n",
    "transition_matrix = torch.tensor([[0.9,0.05,0.05],\n",
    "                     [0.05,0.9,0.05],\n",
    "                     [0.05,0.05,0.9]])\n",
    "\n",
    "       # emissions  # A   B    C\n",
    "emission_matrix = torch.tensor([[0.9,0.05,0.05],\n",
    "                     [0.05,0.9,0.05],\n",
    "                     [0.05,0.05,0.9]])\n",
    "\n",
    "\n",
    "pi = torch.tensor([0.3,0.4,0.3])\n",
    "\n",
    "eta = torch.tensor([0.9,0.05,0.05])"
   ]
  },
  {
   "cell_type": "markdown",
   "id": "5f5afe92",
   "metadata": {},
   "source": [
    "Now imagine the state and symbols are mixed into a single matrix. Design this matrix M to be able to update once every transition, that transform the current mixed state to a linear combination of it, which is the updated mixed state. Because M already inform us about the probability distribution, the update should include the symbol, and we choose one of the three msp matrix to update the probability. "
   ]
  },
  {
   "cell_type": "code",
   "execution_count": 3,
   "id": "b6e5d403",
   "metadata": {},
   "outputs": [
    {
     "name": "stdout",
     "output_type": "stream",
     "text": [
      "[0.075      0.04330127]\n"
     ]
    }
   ],
   "source": [
    "def compute_msp_matrices(A: torch.Tensor, B: torch.Tensor):\n",
    "    \"\"\"\n",
    "    Given HMM transition matrix A [N, N] and emission matrix B [N, M],\n",
    "    return a list of MSP matrices T_k, one for each observation symbol k.\n",
    "    \"\"\"\n",
    "    N, M = B.shape\n",
    "    T_list = []\n",
    "    \n",
    "    for k in range(M):  # loop over observation symbols\n",
    "        emission_col = B[:, k]                      # shape (N,)\n",
    "        T_k = A * emission_col.unsqueeze(0)         # broadcast multiply to shape (N, N)\n",
    "        T_list.append(T_k)\n",
    "    print(\"T_list:\", T_list)\n",
    "    return T_list  # list of [N x N] tensors, each is T_k\n",
    "\n",
    "def generate_store_token_belief(T_list,pi:torch.tensor,eta,cycle,seed=None):\n",
    "     token = []\n",
    "     belief = []\n",
    "     store = []\n",
    "     eta = eta\n",
    "     print(\"pi:\", pi.shape[0])\n",
    "     if seed is not None:\n",
    "          torch.manual_seed(seed)\n",
    "     for _ in range(cycle):\n",
    "          dice = np.random.choice(pi.shape[0])\n",
    "          #print(\"dice:\", dice)\n",
    "          t_x = T_list[dice]\n",
    "          \n",
    "          eta = eta @ t_x\n",
    "          eta = eta / eta.sum()\n",
    "          \n",
    "          token.append(pi[dice])\n",
    "          belief.append(eta)\n",
    "          store.append(get_cartesian_from_barycentric(eta))\n",
    "     token = torch.tensor(token)\n",
    "     belief = torch.stack(belief)\n",
    "     return token,belief,store\n",
    "\n",
    "# helper function\n",
    "def get_cartesian_from_barycentric(b):\n",
    "    t = np.transpose(np.array([[0,0],[1,0],[0.5, np.sqrt(3)/2]])) # Triangle\n",
    "    return t.dot(b)\n",
    "\n",
    "print(get_cartesian_from_barycentric(eta))\n",
    "\n",
    "def plot_beliefs_on_simplex(beliefs: torch.Tensor, title=\"Belief Trajectory\"):\n",
    "    assert beliefs.shape[1] == 3, \"Only works for 3-state HMM\"\n",
    "\n",
    "    # Make triangle float32 to match beliefs\n",
    "    v0 = torch.tensor([0.0, 0.0], dtype=beliefs.dtype)\n",
    "    v1 = torch.tensor([1.0, 0.0], dtype=beliefs.dtype)\n",
    "    v2 = torch.tensor([0.5, torch.sqrt(torch.tensor(3.0, dtype=beliefs.dtype)) / 2], dtype=beliefs.dtype)\n",
    "    triangle = torch.stack([v0, v1, v2])  # [3, 2]\n",
    "    print(\"triangle:\", triangle)\n",
    "    # Convert belief vectors to xy\n",
    "    xy_coords = beliefs @ triangle  # [T, 2]\n",
    "    print(\"xy_coords:\", xy_coords.shape)\n",
    "    print(\"examples:\", xy_coords[0:50])\n",
    "    # Plot\n",
    "    plt.figure(figsize=(6, 6))\n",
    "    plt.plot(*zip(*torch.cat([triangle, triangle[0].unsqueeze(0)], dim=0)), color='k', lw=1)\n",
    "    plt.scatter(xy_coords[:, 0], xy_coords[:, 1], s=6, c=range(len(beliefs)), cmap='viridis')\n",
    "    plt.title(title)\n",
    "    plt.axis('equal')\n",
    "    plt.axis('off')\n",
    "    plt.show()\n"
   ]
  },
  {
   "cell_type": "code",
   "execution_count": 4,
   "id": "aeb1af2b",
   "metadata": {},
   "outputs": [
    {
     "name": "stdout",
     "output_type": "stream",
     "text": [
      "T_list: [tensor([[0.8100, 0.0025, 0.0025],\n",
      "        [0.0450, 0.0450, 0.0025],\n",
      "        [0.0450, 0.0025, 0.0450]]), tensor([[0.0450, 0.0450, 0.0025],\n",
      "        [0.0025, 0.8100, 0.0025],\n",
      "        [0.0025, 0.0450, 0.0450]]), tensor([[0.0450, 0.0025, 0.0450],\n",
      "        [0.0025, 0.0450, 0.0450],\n",
      "        [0.0025, 0.0025, 0.8100]])]\n",
      "pi: 3\n"
     ]
    }
   ],
   "source": [
    "t_list = compute_msp_matrices(transition_matrix, emission_matrix)\n",
    "tokens, beliefs,store = generate_store_token_belief(t_list, pi=pi,eta=eta, cycle=100000)\n",
    "tokens = tokens.to(device)\n",
    "beliefs = beliefs.to(device)"
   ]
  },
  {
   "cell_type": "code",
   "execution_count": 5,
   "id": "27d599dd",
   "metadata": {},
   "outputs": [],
   "source": [
    "seq_len = 32\n",
    "cfg = HookedTransformerConfig(\n",
    "    d_model=64,\n",
    "    n_layers=4,\n",
    "    n_heads=2,\n",
    "    d_head=32,  # d_model = n_heads * d_head\n",
    "    d_vocab=3,\n",
    "    n_ctx=seq_len,\n",
    "    act_fn=\"relu\",\n",
    "    seed=41,\n",
    "    tokenizer_name=None,\n",
    "    device=device,\n",
    ")\n",
    "model = HookedTransformer(cfg)"
   ]
  },
  {
   "cell_type": "code",
   "execution_count": 6,
   "id": "efbbe58a",
   "metadata": {},
   "outputs": [],
   "source": [
    "class ContinuousHMMDataset(torch.utils.data.Dataset):\n",
    "    def __init__(self, tokens, beliefs, seq_len):\n",
    "        self.tokens = tokens\n",
    "        self.beliefs = beliefs\n",
    "        self.seq_len = seq_len\n",
    "        self.length = len(tokens) - seq_len - 1\n",
    "\n",
    "    def __len__(self):\n",
    "        return self.length\n",
    "\n",
    "    def __getitem__(self, idx):\n",
    "        x = self.tokens[idx : idx + self.seq_len]           # [seq_len]\n",
    "        y = self.tokens[idx + 1 : idx + self.seq_len + 1]   # [seq_len]\n",
    "        b = self.beliefs[idx + 1 : idx + self.seq_len + 1]  # [seq_len, 3]\n",
    "        return x, y, b\n",
    "    \n",
    "def train_model(model, dataloader, optimizer):\n",
    "    model.train()\n",
    "    for epoch in range(2):\n",
    "        total_loss = 0\n",
    "        for x, y, _ in dataloader:\n",
    "            x, y = x.to(device), y.to(device)\n",
    "            logits = model(x)\n",
    "            loss = F.cross_entropy(logits.view(-1, cfg.d_vocab), y.view(-1))\n",
    "            loss.backward()\n",
    "            optimizer.step()\n",
    "            optimizer.zero_grad()\n",
    "            total_loss += loss.item()\n",
    "        print(f\"Epoch {epoch}: {total_loss:.4f}\")"
   ]
  },
  {
   "cell_type": "code",
   "execution_count": 7,
   "id": "14deb6d2",
   "metadata": {},
   "outputs": [
    {
     "name": "stdout",
     "output_type": "stream",
     "text": [
      "Moving model to device:  mps\n",
      "Epoch 0: 2.5696\n",
      "Epoch 1: 0.0351\n"
     ]
    }
   ],
   "source": [
    "tokens = tokens.long()\n",
    "tokens.to(device)\n",
    "\n",
    "model.to(device)\n",
    "ds = ContinuousHMMDataset(tokens, beliefs, seq_len=32)\n",
    "dataloader = torch.utils.data.DataLoader(ds, batch_size=128, shuffle=False, drop_last=True)\n",
    "optimizer = torch.optim.Adam(model.parameters(), lr=1e-3)\n",
    "train_model(model, dataloader, optimizer)\n"
   ]
  },
  {
   "cell_type": "code",
   "execution_count": 8,
   "id": "6eb3104c",
   "metadata": {},
   "outputs": [
    {
     "ename": "AttributeError",
     "evalue": "'HookedTransformer' object has no attribute 'save_model'",
     "output_type": "error",
     "traceback": [
      "\u001b[0;31m---------------------------------------------------------------------------\u001b[0m",
      "\u001b[0;31mAttributeError\u001b[0m                            Traceback (most recent call last)",
      "Cell \u001b[0;32mIn[8], line 1\u001b[0m\n\u001b[0;32m----> 1\u001b[0m \u001b[43mmodel\u001b[49m\u001b[38;5;241;43m.\u001b[39;49m\u001b[43msave_model\u001b[49m(\u001b[38;5;124m\"\u001b[39m\u001b[38;5;124mtransformer_lens_model\u001b[39m\u001b[38;5;124m\"\u001b[39m)\n\u001b[1;32m      2\u001b[0m model \u001b[38;5;241m=\u001b[39m HookedTransformer\u001b[38;5;241m.\u001b[39mfrom_pretrained(\u001b[38;5;124m\"\u001b[39m\u001b[38;5;124mtransformer_lens_model\u001b[39m\u001b[38;5;124m\"\u001b[39m, device\u001b[38;5;241m=\u001b[39mdevice)\n",
      "File \u001b[0;32m~/miniconda3/envs/deepseek/lib/python3.10/site-packages/torch/nn/modules/module.py:1931\u001b[0m, in \u001b[0;36mModule.__getattr__\u001b[0;34m(self, name)\u001b[0m\n\u001b[1;32m   1929\u001b[0m     \u001b[38;5;28;01mif\u001b[39;00m name \u001b[38;5;129;01min\u001b[39;00m modules:\n\u001b[1;32m   1930\u001b[0m         \u001b[38;5;28;01mreturn\u001b[39;00m modules[name]\n\u001b[0;32m-> 1931\u001b[0m \u001b[38;5;28;01mraise\u001b[39;00m \u001b[38;5;167;01mAttributeError\u001b[39;00m(\n\u001b[1;32m   1932\u001b[0m     \u001b[38;5;124mf\u001b[39m\u001b[38;5;124m\"\u001b[39m\u001b[38;5;124m'\u001b[39m\u001b[38;5;132;01m{\u001b[39;00m\u001b[38;5;28mtype\u001b[39m(\u001b[38;5;28mself\u001b[39m)\u001b[38;5;241m.\u001b[39m\u001b[38;5;18m__name__\u001b[39m\u001b[38;5;132;01m}\u001b[39;00m\u001b[38;5;124m'\u001b[39m\u001b[38;5;124m object has no attribute \u001b[39m\u001b[38;5;124m'\u001b[39m\u001b[38;5;132;01m{\u001b[39;00mname\u001b[38;5;132;01m}\u001b[39;00m\u001b[38;5;124m'\u001b[39m\u001b[38;5;124m\"\u001b[39m\n\u001b[1;32m   1933\u001b[0m )\n",
      "\u001b[0;31mAttributeError\u001b[0m: 'HookedTransformer' object has no attribute 'save_model'"
     ]
    }
   ],
   "source": [
    "model.save_model(\"transformer_lens_model\")\n",
    "model = HookedTransformer.from_pretrained(\"transformer_lens_model\", device=device)"
   ]
  },
  {
   "cell_type": "code",
   "execution_count": null,
   "id": "0bf17e0d",
   "metadata": {},
   "outputs": [],
   "source": [
    "input_batch = next(iter(dataloader))[0].to(device)  # just grab 1 batch\n",
    "\n",
    "logits, cache = model.run_with_cache(input_batch)\n",
    "\n",
    "# For example, get residual after final layer:\n",
    "#resid_post = cache[\"resid_post\", -1]  # shape [B, T, d_model]\n",
    "resid_post = cache[\"resid_post\",-4]\n",
    "\n",
    "all_beliefs = []\n",
    "\n",
    "model.eval()\n",
    "with torch.no_grad():\n",
    "    for x, _, beliefs in dataloader:\n",
    "        x = x.to(device)\n",
    "        logits, cache = model.run_with_cache(x)\n",
    "        all_beliefs.append(beliefs)\n",
    "\n",
    "belief_targets = torch.cat(all_beliefs, dim=0).reshape(-1, beliefs.shape[-1])"
   ]
  },
  {
   "cell_type": "code",
   "execution_count": null,
   "id": "7d272968",
   "metadata": {},
   "outputs": [
    {
     "name": "stdout",
     "output_type": "stream",
     "text": [
      "triangle: tensor([[0.0000, 0.0000],\n",
      "        [1.0000, 0.0000],\n",
      "        [0.5000, 0.8660]])\n",
      "xy_coords: torch.Size([4096, 2])\n",
      "examples: tensor([[0.4525, 0.2804],\n",
      "        [0.4497, 0.2807],\n",
      "        [0.4426, 0.2808],\n",
      "        [0.4396, 0.2811],\n",
      "        [0.4431, 0.2809],\n",
      "        [0.4471, 0.2864],\n",
      "        [0.4539, 0.2877],\n",
      "        [0.4547, 0.2850],\n",
      "        [0.4564, 0.2837],\n",
      "        [0.4604, 0.2872],\n",
      "        [0.4677, 0.2876],\n",
      "        [0.4669, 0.2878],\n",
      "        [0.4701, 0.2839],\n",
      "        [0.4708, 0.2832],\n",
      "        [0.4686, 0.2866],\n",
      "        [0.4725, 0.2867],\n",
      "        [0.4687, 0.2870],\n",
      "        [0.4665, 0.2869],\n",
      "        [0.4713, 0.2870],\n",
      "        [0.4756, 0.2909],\n",
      "        [0.4766, 0.2918],\n",
      "        [0.4759, 0.2968],\n",
      "        [0.4777, 0.2950],\n",
      "        [0.4811, 0.3002],\n",
      "        [0.4798, 0.2976],\n",
      "        [0.4817, 0.2920],\n",
      "        [0.4842, 0.2945],\n",
      "        [0.4879, 0.3008],\n",
      "        [0.4899, 0.3038],\n",
      "        [0.4931, 0.3016],\n",
      "        [0.4904, 0.2955],\n",
      "        [0.4847, 0.2926],\n",
      "        [0.4525, 0.2804],\n",
      "        [0.4497, 0.2807],\n",
      "        [0.4426, 0.2808],\n",
      "        [0.4396, 0.2811],\n",
      "        [0.4431, 0.2809],\n",
      "        [0.4471, 0.2864],\n",
      "        [0.4539, 0.2877],\n",
      "        [0.4547, 0.2850],\n",
      "        [0.4564, 0.2837],\n",
      "        [0.4604, 0.2872],\n",
      "        [0.4677, 0.2876],\n",
      "        [0.4669, 0.2878],\n",
      "        [0.4701, 0.2839],\n",
      "        [0.4708, 0.2832],\n",
      "        [0.4686, 0.2866],\n",
      "        [0.4725, 0.2867],\n",
      "        [0.4687, 0.2870],\n",
      "        [0.4665, 0.2869]])\n"
     ]
    },
    {
     "data": {
      "image/png": "[encoded data removed]",
      "text/plain": [
       "<Figure size 600x600 with 1 Axes>"
      ]
     },
     "metadata": {},
     "output_type": "display_data"
    }
   ],
   "source": [
    "reps = resid_post.reshape(-1, resid_post.shape[-1]).cpu()\n",
    "Y = belief_targets[:reps.shape[0]].cpu()  # crop if needed\n",
    "\n",
    "from sklearn.linear_model import LinearRegression\n",
    "probe = LinearRegression().fit(reps, Y)\n",
    "Y_pred = probe.predict(reps)\n",
    "\n",
    "plot_beliefs_on_simplex(torch.tensor(Y_pred), title=\"Probed beliefs (TransformerLens)\")"
   ]
  }
 ],
 "metadata": {
  "kernelspec": {
   "display_name": "deepseek",
   "language": "python",
   "name": "python3"
  },
  "language_info": {
   "codemirror_mode": {
    "name": "ipython",
    "version": 3
   },
   "file_extension": ".py",
   "mimetype": "text/x-python",
   "name": "python",
   "nbconvert_exporter": "python",
   "pygments_lexer": "ipython3",
   "version": "3.10.13"
  }
 },
 "nbformat": 4,
 "nbformat_minor": 5
}
